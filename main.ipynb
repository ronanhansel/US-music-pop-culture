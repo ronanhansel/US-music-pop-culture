{
 "cells": [
  {
   "cell_type": "code",
   "execution_count": 238,
   "metadata": {},
   "outputs": [],
   "source": [
    "import pandas as pd\n",
    "import numpy as np\n",
    "pd.set_option('display.max_rows', 25)"
   ]
  },
  {
   "cell_type": "code",
   "execution_count": 239,
   "metadata": {},
   "outputs": [],
   "source": [
    "df = pd.read_csv(\"./Billboard Hot 100 since 1958.csv\")"
   ]
  },
  {
   "cell_type": "code",
   "execution_count": 240,
   "metadata": {},
   "outputs": [
    {
     "data": {
      "text/plain": [
       "Index(['chart_position', 'chart_date', 'song', 'performer', 'song_id',\n",
       "       'instance', 'time_on_chart', 'consecutive_weeks', 'previous_week',\n",
       "       'peak_position', 'worst_position', 'chart_debut', 'chart_url'],\n",
       "      dtype='object')"
      ]
     },
     "execution_count": 240,
     "metadata": {},
     "output_type": "execute_result"
    }
   ],
   "source": [
    "df.columns"
   ]
  },
  {
   "cell_type": "code",
   "execution_count": 241,
   "metadata": {},
   "outputs": [
    {
     "data": {
      "text/plain": [
       "chart_position           0\n",
       "chart_date               0\n",
       "song                     0\n",
       "performer                0\n",
       "song_id                  0\n",
       "instance                 0\n",
       "time_on_chart            0\n",
       "consecutive_weeks    33667\n",
       "previous_week        33667\n",
       "peak_position            0\n",
       "worst_position           0\n",
       "chart_debut              0\n",
       "chart_url                0\n",
       "dtype: int64"
      ]
     },
     "execution_count": 241,
     "metadata": {},
     "output_type": "execute_result"
    }
   ],
   "source": [
    "df.isnull().sum()"
   ]
  },
  {
   "cell_type": "code",
   "execution_count": 242,
   "metadata": {},
   "outputs": [
    {
     "data": {
      "text/plain": [
       "(338395, 13)"
      ]
     },
     "execution_count": 242,
     "metadata": {},
     "output_type": "execute_result"
    }
   ],
   "source": [
    "df.shape"
   ]
  },
  {
   "cell_type": "code",
   "execution_count": 243,
   "metadata": {},
   "outputs": [
    {
     "data": {
      "text/plain": [
       "chart_date\n",
       "1958-08-02    100\n",
       "1958-08-09    100\n",
       "1958-08-16    100\n",
       "1958-08-23    100\n",
       "1958-08-30    100\n",
       "1958-09-06    100\n",
       "1958-09-13    100\n",
       "1958-09-20    100\n",
       "1958-09-27    100\n",
       "1958-10-04    100\n",
       "Name: count, dtype: int64"
      ]
     },
     "execution_count": 243,
     "metadata": {},
     "output_type": "execute_result"
    }
   ],
   "source": [
    "df['chart_date'] = pd.to_datetime(df['chart_date'], format='%Y-%m-%d')\n",
    "df.drop(['chart_position'], axis=1)\n",
    "df.sort_values(['chart_date', 'chart_position'], ascending=[True, True], inplace=True)\n",
    "df.reset_index(drop=True, inplace=True)\n",
    "df.head(1000)['chart_date'].value_counts()"
   ]
  },
  {
   "cell_type": "code",
   "execution_count": 244,
   "metadata": {},
   "outputs": [
    {
     "data": {
      "text/html": [
       "<div>\n",
       "<style scoped>\n",
       "    .dataframe tbody tr th:only-of-type {\n",
       "        vertical-align: middle;\n",
       "    }\n",
       "\n",
       "    .dataframe tbody tr th {\n",
       "        vertical-align: top;\n",
       "    }\n",
       "\n",
       "    .dataframe thead th {\n",
       "        text-align: right;\n",
       "    }\n",
       "</style>\n",
       "<table border=\"1\" class=\"dataframe\">\n",
       "  <thead>\n",
       "    <tr style=\"text-align: right;\">\n",
       "      <th></th>\n",
       "      <th>chart_position</th>\n",
       "      <th>chart_date</th>\n",
       "      <th>chart_day</th>\n",
       "      <th>song</th>\n",
       "      <th>performer</th>\n",
       "      <th>chart_url</th>\n",
       "    </tr>\n",
       "  </thead>\n",
       "  <tbody>\n",
       "    <tr>\n",
       "      <th>0</th>\n",
       "      <td>1</td>\n",
       "      <td>1958-08-02</td>\n",
       "      <td>Saturday</td>\n",
       "      <td>Poor Little Fool</td>\n",
       "      <td>Ricky Nelson</td>\n",
       "      <td>https://www.billboard.com/charts/hot-100/1958-...</td>\n",
       "    </tr>\n",
       "    <tr>\n",
       "      <th>1</th>\n",
       "      <td>2</td>\n",
       "      <td>1958-08-02</td>\n",
       "      <td>Saturday</td>\n",
       "      <td>Patricia</td>\n",
       "      <td>Perez Prado And His Orchestra</td>\n",
       "      <td>https://www.billboard.com/charts/hot-100/1958-...</td>\n",
       "    </tr>\n",
       "    <tr>\n",
       "      <th>2</th>\n",
       "      <td>3</td>\n",
       "      <td>1958-08-02</td>\n",
       "      <td>Saturday</td>\n",
       "      <td>Splish Splash</td>\n",
       "      <td>Bobby Darin</td>\n",
       "      <td>https://www.billboard.com/charts/hot-100/1958-...</td>\n",
       "    </tr>\n",
       "    <tr>\n",
       "      <th>3</th>\n",
       "      <td>4</td>\n",
       "      <td>1958-08-02</td>\n",
       "      <td>Saturday</td>\n",
       "      <td>Hard Headed Woman</td>\n",
       "      <td>Elvis Presley With The Jordanaires</td>\n",
       "      <td>https://www.billboard.com/charts/hot-100/1958-...</td>\n",
       "    </tr>\n",
       "    <tr>\n",
       "      <th>4</th>\n",
       "      <td>5</td>\n",
       "      <td>1958-08-02</td>\n",
       "      <td>Saturday</td>\n",
       "      <td>When</td>\n",
       "      <td>Kalin Twins</td>\n",
       "      <td>https://www.billboard.com/charts/hot-100/1958-...</td>\n",
       "    </tr>\n",
       "    <tr>\n",
       "      <th>...</th>\n",
       "      <td>...</td>\n",
       "      <td>...</td>\n",
       "      <td>...</td>\n",
       "      <td>...</td>\n",
       "      <td>...</td>\n",
       "      <td>...</td>\n",
       "    </tr>\n",
       "    <tr>\n",
       "      <th>338390</th>\n",
       "      <td>96</td>\n",
       "      <td>2023-05-27</td>\n",
       "      <td>Saturday</td>\n",
       "      <td>Forever</td>\n",
       "      <td>Lil Baby Featuring Fridayy</td>\n",
       "      <td>https://www.billboard.com/charts/hot-100/2023-...</td>\n",
       "    </tr>\n",
       "    <tr>\n",
       "      <th>338391</th>\n",
       "      <td>97</td>\n",
       "      <td>2023-05-27</td>\n",
       "      <td>Saturday</td>\n",
       "      <td>Private Landing</td>\n",
       "      <td>Don Toliver Featuring Justin Bieber &amp; Future</td>\n",
       "      <td>https://www.billboard.com/charts/hot-100/2023-...</td>\n",
       "    </tr>\n",
       "    <tr>\n",
       "      <th>338392</th>\n",
       "      <td>98</td>\n",
       "      <td>2023-05-27</td>\n",
       "      <td>Saturday</td>\n",
       "      <td>I Heard</td>\n",
       "      <td>YoungBoy Never Broke Again</td>\n",
       "      <td>https://www.billboard.com/charts/hot-100/2023-...</td>\n",
       "    </tr>\n",
       "    <tr>\n",
       "      <th>338393</th>\n",
       "      <td>99</td>\n",
       "      <td>2023-05-27</td>\n",
       "      <td>Saturday</td>\n",
       "      <td>Sunrise</td>\n",
       "      <td>Morgan Wallen</td>\n",
       "      <td>https://www.billboard.com/charts/hot-100/2023-...</td>\n",
       "    </tr>\n",
       "    <tr>\n",
       "      <th>338394</th>\n",
       "      <td>100</td>\n",
       "      <td>2023-05-27</td>\n",
       "      <td>Saturday</td>\n",
       "      <td>Happy</td>\n",
       "      <td>NF</td>\n",
       "      <td>https://www.billboard.com/charts/hot-100/2023-...</td>\n",
       "    </tr>\n",
       "  </tbody>\n",
       "</table>\n",
       "<p>338395 rows × 6 columns</p>\n",
       "</div>"
      ],
      "text/plain": [
       "        chart_position chart_date chart_day               song  \\\n",
       "0                    1 1958-08-02  Saturday   Poor Little Fool   \n",
       "1                    2 1958-08-02  Saturday           Patricia   \n",
       "2                    3 1958-08-02  Saturday      Splish Splash   \n",
       "3                    4 1958-08-02  Saturday  Hard Headed Woman   \n",
       "4                    5 1958-08-02  Saturday               When   \n",
       "...                ...        ...       ...                ...   \n",
       "338390              96 2023-05-27  Saturday            Forever   \n",
       "338391              97 2023-05-27  Saturday    Private Landing   \n",
       "338392              98 2023-05-27  Saturday            I Heard   \n",
       "338393              99 2023-05-27  Saturday            Sunrise   \n",
       "338394             100 2023-05-27  Saturday              Happy   \n",
       "\n",
       "                                           performer  \\\n",
       "0                                       Ricky Nelson   \n",
       "1                      Perez Prado And His Orchestra   \n",
       "2                                        Bobby Darin   \n",
       "3                 Elvis Presley With The Jordanaires   \n",
       "4                                        Kalin Twins   \n",
       "...                                              ...   \n",
       "338390                    Lil Baby Featuring Fridayy   \n",
       "338391  Don Toliver Featuring Justin Bieber & Future   \n",
       "338392                    YoungBoy Never Broke Again   \n",
       "338393                                 Morgan Wallen   \n",
       "338394                                            NF   \n",
       "\n",
       "                                                chart_url  \n",
       "0       https://www.billboard.com/charts/hot-100/1958-...  \n",
       "1       https://www.billboard.com/charts/hot-100/1958-...  \n",
       "2       https://www.billboard.com/charts/hot-100/1958-...  \n",
       "3       https://www.billboard.com/charts/hot-100/1958-...  \n",
       "4       https://www.billboard.com/charts/hot-100/1958-...  \n",
       "...                                                   ...  \n",
       "338390  https://www.billboard.com/charts/hot-100/2023-...  \n",
       "338391  https://www.billboard.com/charts/hot-100/2023-...  \n",
       "338392  https://www.billboard.com/charts/hot-100/2023-...  \n",
       "338393  https://www.billboard.com/charts/hot-100/2023-...  \n",
       "338394  https://www.billboard.com/charts/hot-100/2023-...  \n",
       "\n",
       "[338395 rows x 6 columns]"
      ]
     },
     "execution_count": 244,
     "metadata": {},
     "output_type": "execute_result"
    }
   ],
   "source": [
    "# Check if every date is the same\n",
    "df['chart_day'] = df['chart_date'].dt.dayofweek\n",
    "df['chart_day'] = df['chart_day'].map({\n",
    "    0: 'Monday',\n",
    "    1: 'Tuesday',\n",
    "    2: 'Wednesday',\n",
    "    3: 'Thursday',\n",
    "    4: 'Friday',\n",
    "    5: 'Saturday',\n",
    "    6: 'Sunday'\n",
    "})\n",
    "df = df[['chart_position', 'chart_date', 'chart_day', 'song', 'performer' \n",
    "       #'song_id', 'instance', 'time_on_chart', \n",
    "       #'consecutive_weeks', 'previous_week',\n",
    "       #'peak_position', 'worst_position', 'chart_debut'\n",
    "       , 'chart_url'\n",
    "       ]]\n",
    "df"
   ]
  },
  {
   "cell_type": "code",
   "execution_count": 245,
   "metadata": {},
   "outputs": [
    {
     "data": {
      "text/plain": [
       "chart_day\n",
       "Saturday    338395\n",
       "Name: count, dtype: int64"
      ]
     },
     "execution_count": 245,
     "metadata": {},
     "output_type": "execute_result"
    }
   ],
   "source": [
    "df['chart_day'].value_counts()"
   ]
  },
  {
   "cell_type": "markdown",
   "metadata": {},
   "source": [
    "100 % of the entries are reset on Saturday so I'm going to drop it to clean the DataFrame"
   ]
  },
  {
   "cell_type": "code",
   "execution_count": 246,
   "metadata": {},
   "outputs": [],
   "source": [
    "df.drop('chart_day', axis=1, inplace=True)"
   ]
  },
  {
   "cell_type": "code",
   "execution_count": 247,
   "metadata": {},
   "outputs": [
    {
     "data": {
      "text/plain": [
       "song\n",
       "Got A Match?                2\n",
       "Early In The Morning        2\n",
       "Over And Over               2\n",
       "Poor Little Fool            1\n",
       "High School Confidential    1\n",
       "                           ..\n",
       "Angel Baby                  1\n",
       "Enchanted Island            1\n",
       "Secretly                    1\n",
       "Think It Over               1\n",
       "Judy                        1\n",
       "Name: count, Length: 97, dtype: int64"
      ]
     },
     "execution_count": 247,
     "metadata": {},
     "output_type": "execute_result"
    }
   ],
   "source": [
    "df.head(100).song.value_counts()"
   ]
  },
  {
   "cell_type": "markdown",
   "metadata": {},
   "source": [
    "Here are some repetition, so I'm finding a way to understand it."
   ]
  },
  {
   "cell_type": "code",
   "execution_count": 248,
   "metadata": {},
   "outputs": [
    {
     "data": {
      "text/plain": [
       "chart_position\n",
       "63     2\n",
       "50     2\n",
       "74     2\n",
       "73     1\n",
       "72     1\n",
       "      ..\n",
       "31     1\n",
       "30     1\n",
       "29     1\n",
       "28     1\n",
       "100    1\n",
       "Name: count, Length: 97, dtype: int64"
      ]
     },
     "execution_count": 248,
     "metadata": {},
     "output_type": "execute_result"
    }
   ],
   "source": [
    "df.head(100).chart_position.value_counts()"
   ]
  },
  {
   "cell_type": "code",
   "execution_count": 249,
   "metadata": {},
   "outputs": [
    {
     "name": "stderr",
     "output_type": "stream",
     "text": [
      "/var/folders/qk/t7psjtl510s8pvxmhbfn6v780000gn/T/ipykernel_16887/2881002666.py:1: UserWarning: Boolean Series key will be reindexed to match DataFrame index.\n",
      "  df.head(100)[df['chart_position'].isin([50, 74, 63])].sort_values(by='chart_position')\n"
     ]
    },
    {
     "data": {
      "text/html": [
       "<div>\n",
       "<style scoped>\n",
       "    .dataframe tbody tr th:only-of-type {\n",
       "        vertical-align: middle;\n",
       "    }\n",
       "\n",
       "    .dataframe tbody tr th {\n",
       "        vertical-align: top;\n",
       "    }\n",
       "\n",
       "    .dataframe thead th {\n",
       "        text-align: right;\n",
       "    }\n",
       "</style>\n",
       "<table border=\"1\" class=\"dataframe\">\n",
       "  <thead>\n",
       "    <tr style=\"text-align: right;\">\n",
       "      <th></th>\n",
       "      <th>chart_position</th>\n",
       "      <th>chart_date</th>\n",
       "      <th>song</th>\n",
       "      <th>performer</th>\n",
       "      <th>chart_url</th>\n",
       "    </tr>\n",
       "  </thead>\n",
       "  <tbody>\n",
       "    <tr>\n",
       "      <th>49</th>\n",
       "      <td>50</td>\n",
       "      <td>1958-08-02</td>\n",
       "      <td>Baubles, Bangles And Beads</td>\n",
       "      <td>The Kirby Stone Four</td>\n",
       "      <td>https://www.billboard.com/charts/hot-100/1958-...</td>\n",
       "    </tr>\n",
       "    <tr>\n",
       "      <th>50</th>\n",
       "      <td>50</td>\n",
       "      <td>1958-08-02</td>\n",
       "      <td>By The Light Of The Silvery Moon</td>\n",
       "      <td>Jimmy Bowen with the Rhythm Orchids</td>\n",
       "      <td>https://www.billboard.com/charts/hot-100/1958-...</td>\n",
       "    </tr>\n",
       "    <tr>\n",
       "      <th>62</th>\n",
       "      <td>63</td>\n",
       "      <td>1958-08-02</td>\n",
       "      <td>High School Confidential</td>\n",
       "      <td>Jerry Lee Lewis And His Pumping Piano</td>\n",
       "      <td>https://www.billboard.com/charts/hot-100/1958-...</td>\n",
       "    </tr>\n",
       "    <tr>\n",
       "      <th>63</th>\n",
       "      <td>63</td>\n",
       "      <td>1958-08-02</td>\n",
       "      <td>Padre</td>\n",
       "      <td>Toni Arden</td>\n",
       "      <td>https://www.billboard.com/charts/hot-100/1958-...</td>\n",
       "    </tr>\n",
       "    <tr>\n",
       "      <th>73</th>\n",
       "      <td>74</td>\n",
       "      <td>1958-08-02</td>\n",
       "      <td>Gotta Have Rain</td>\n",
       "      <td>Eydie Gorme</td>\n",
       "      <td>https://www.billboard.com/charts/hot-100/1958-...</td>\n",
       "    </tr>\n",
       "    <tr>\n",
       "      <th>74</th>\n",
       "      <td>74</td>\n",
       "      <td>1958-08-02</td>\n",
       "      <td>Win Your Love For Me</td>\n",
       "      <td>Sam Cooke</td>\n",
       "      <td>https://www.billboard.com/charts/hot-100/1958-...</td>\n",
       "    </tr>\n",
       "  </tbody>\n",
       "</table>\n",
       "</div>"
      ],
      "text/plain": [
       "    chart_position chart_date                              song  \\\n",
       "49              50 1958-08-02        Baubles, Bangles And Beads   \n",
       "50              50 1958-08-02  By The Light Of The Silvery Moon   \n",
       "62              63 1958-08-02          High School Confidential   \n",
       "63              63 1958-08-02                             Padre   \n",
       "73              74 1958-08-02                   Gotta Have Rain   \n",
       "74              74 1958-08-02              Win Your Love For Me   \n",
       "\n",
       "                                performer  \\\n",
       "49                   The Kirby Stone Four   \n",
       "50    Jimmy Bowen with the Rhythm Orchids   \n",
       "62  Jerry Lee Lewis And His Pumping Piano   \n",
       "63                             Toni Arden   \n",
       "73                            Eydie Gorme   \n",
       "74                              Sam Cooke   \n",
       "\n",
       "                                            chart_url  \n",
       "49  https://www.billboard.com/charts/hot-100/1958-...  \n",
       "50  https://www.billboard.com/charts/hot-100/1958-...  \n",
       "62  https://www.billboard.com/charts/hot-100/1958-...  \n",
       "63  https://www.billboard.com/charts/hot-100/1958-...  \n",
       "73  https://www.billboard.com/charts/hot-100/1958-...  \n",
       "74  https://www.billboard.com/charts/hot-100/1958-...  "
      ]
     },
     "execution_count": 249,
     "metadata": {},
     "output_type": "execute_result"
    }
   ],
   "source": [
    "df.head(100)[df['chart_position'].isin([50, 74, 63])].sort_values(by='chart_position')"
   ]
  },
  {
   "cell_type": "code",
   "execution_count": 250,
   "metadata": {},
   "outputs": [
    {
     "data": {
      "text/plain": [
       "'https://www.billboard.com/charts/hot-100/1958-08-02'"
      ]
     },
     "execution_count": 250,
     "metadata": {},
     "output_type": "execute_result"
    }
   ],
   "source": [
    "# Rechecking the db with that on billboard website\n",
    "df.at[22, 'chart_url']"
   ]
  },
  {
   "cell_type": "code",
   "execution_count": 251,
   "metadata": {},
   "outputs": [
    {
     "data": {
      "text/html": [
       "<div>\n",
       "<style scoped>\n",
       "    .dataframe tbody tr th:only-of-type {\n",
       "        vertical-align: middle;\n",
       "    }\n",
       "\n",
       "    .dataframe tbody tr th {\n",
       "        vertical-align: top;\n",
       "    }\n",
       "\n",
       "    .dataframe thead th {\n",
       "        text-align: right;\n",
       "    }\n",
       "</style>\n",
       "<table border=\"1\" class=\"dataframe\">\n",
       "  <thead>\n",
       "    <tr style=\"text-align: right;\">\n",
       "      <th></th>\n",
       "      <th>chart_position</th>\n",
       "      <th>chart_date</th>\n",
       "      <th>song</th>\n",
       "      <th>performer</th>\n",
       "      <th>chart_url</th>\n",
       "    </tr>\n",
       "  </thead>\n",
       "  <tbody>\n",
       "    <tr>\n",
       "      <th>0</th>\n",
       "      <td>1</td>\n",
       "      <td>1958-08-02</td>\n",
       "      <td>Poor Little Fool</td>\n",
       "      <td>Ricky Nelson</td>\n",
       "      <td>https://www.billboard.com/charts/hot-100/1958-...</td>\n",
       "    </tr>\n",
       "    <tr>\n",
       "      <th>1</th>\n",
       "      <td>2</td>\n",
       "      <td>1958-08-02</td>\n",
       "      <td>Patricia</td>\n",
       "      <td>Perez Prado And His Orchestra</td>\n",
       "      <td>https://www.billboard.com/charts/hot-100/1958-...</td>\n",
       "    </tr>\n",
       "    <tr>\n",
       "      <th>2</th>\n",
       "      <td>3</td>\n",
       "      <td>1958-08-02</td>\n",
       "      <td>Splish Splash</td>\n",
       "      <td>Bobby Darin</td>\n",
       "      <td>https://www.billboard.com/charts/hot-100/1958-...</td>\n",
       "    </tr>\n",
       "    <tr>\n",
       "      <th>3</th>\n",
       "      <td>4</td>\n",
       "      <td>1958-08-02</td>\n",
       "      <td>Hard Headed Woman</td>\n",
       "      <td>Elvis Presley With The Jordanaires</td>\n",
       "      <td>https://www.billboard.com/charts/hot-100/1958-...</td>\n",
       "    </tr>\n",
       "    <tr>\n",
       "      <th>4</th>\n",
       "      <td>5</td>\n",
       "      <td>1958-08-02</td>\n",
       "      <td>When</td>\n",
       "      <td>Kalin Twins</td>\n",
       "      <td>https://www.billboard.com/charts/hot-100/1958-...</td>\n",
       "    </tr>\n",
       "    <tr>\n",
       "      <th>...</th>\n",
       "      <td>...</td>\n",
       "      <td>...</td>\n",
       "      <td>...</td>\n",
       "      <td>...</td>\n",
       "      <td>...</td>\n",
       "    </tr>\n",
       "    <tr>\n",
       "      <th>95</th>\n",
       "      <td>96</td>\n",
       "      <td>1958-08-02</td>\n",
       "      <td>Over And Over</td>\n",
       "      <td>Thurston Harris</td>\n",
       "      <td>https://www.billboard.com/charts/hot-100/1958-...</td>\n",
       "    </tr>\n",
       "    <tr>\n",
       "      <th>96</th>\n",
       "      <td>97</td>\n",
       "      <td>1958-08-02</td>\n",
       "      <td>I Believe In You</td>\n",
       "      <td>Robert &amp; Johnny</td>\n",
       "      <td>https://www.billboard.com/charts/hot-100/1958-...</td>\n",
       "    </tr>\n",
       "    <tr>\n",
       "      <th>97</th>\n",
       "      <td>98</td>\n",
       "      <td>1958-08-02</td>\n",
       "      <td>Little Serenade</td>\n",
       "      <td>The Ames Brothers</td>\n",
       "      <td>https://www.billboard.com/charts/hot-100/1958-...</td>\n",
       "    </tr>\n",
       "    <tr>\n",
       "      <th>98</th>\n",
       "      <td>99</td>\n",
       "      <td>1958-08-02</td>\n",
       "      <td>I'll Get By (As Long As I Have You)</td>\n",
       "      <td>Billy Williams</td>\n",
       "      <td>https://www.billboard.com/charts/hot-100/1958-...</td>\n",
       "    </tr>\n",
       "    <tr>\n",
       "      <th>99</th>\n",
       "      <td>100</td>\n",
       "      <td>1958-08-02</td>\n",
       "      <td>Judy</td>\n",
       "      <td>Frankie Vaughan</td>\n",
       "      <td>https://www.billboard.com/charts/hot-100/1958-...</td>\n",
       "    </tr>\n",
       "  </tbody>\n",
       "</table>\n",
       "<p>100 rows × 5 columns</p>\n",
       "</div>"
      ],
      "text/plain": [
       "    chart_position chart_date                                 song  \\\n",
       "0                1 1958-08-02                     Poor Little Fool   \n",
       "1                2 1958-08-02                             Patricia   \n",
       "2                3 1958-08-02                        Splish Splash   \n",
       "3                4 1958-08-02                    Hard Headed Woman   \n",
       "4                5 1958-08-02                                 When   \n",
       "..             ...        ...                                  ...   \n",
       "95              96 1958-08-02                        Over And Over   \n",
       "96              97 1958-08-02                     I Believe In You   \n",
       "97              98 1958-08-02                      Little Serenade   \n",
       "98              99 1958-08-02  I'll Get By (As Long As I Have You)   \n",
       "99             100 1958-08-02                                 Judy   \n",
       "\n",
       "                             performer  \\\n",
       "0                         Ricky Nelson   \n",
       "1        Perez Prado And His Orchestra   \n",
       "2                          Bobby Darin   \n",
       "3   Elvis Presley With The Jordanaires   \n",
       "4                          Kalin Twins   \n",
       "..                                 ...   \n",
       "95                     Thurston Harris   \n",
       "96                     Robert & Johnny   \n",
       "97                   The Ames Brothers   \n",
       "98                      Billy Williams   \n",
       "99                     Frankie Vaughan   \n",
       "\n",
       "                                            chart_url  \n",
       "0   https://www.billboard.com/charts/hot-100/1958-...  \n",
       "1   https://www.billboard.com/charts/hot-100/1958-...  \n",
       "2   https://www.billboard.com/charts/hot-100/1958-...  \n",
       "3   https://www.billboard.com/charts/hot-100/1958-...  \n",
       "4   https://www.billboard.com/charts/hot-100/1958-...  \n",
       "..                                                ...  \n",
       "95  https://www.billboard.com/charts/hot-100/1958-...  \n",
       "96  https://www.billboard.com/charts/hot-100/1958-...  \n",
       "97  https://www.billboard.com/charts/hot-100/1958-...  \n",
       "98  https://www.billboard.com/charts/hot-100/1958-...  \n",
       "99  https://www.billboard.com/charts/hot-100/1958-...  \n",
       "\n",
       "[100 rows x 5 columns]"
      ]
     },
     "execution_count": 251,
     "metadata": {},
     "output_type": "execute_result"
    }
   ],
   "source": [
    "df[df['chart_date'] == '1958-08-02']"
   ]
  },
  {
   "cell_type": "markdown",
   "metadata": {},
   "source": [
    "The df is identical to the website"
   ]
  },
  {
   "cell_type": "markdown",
   "metadata": {},
   "source": [
    "Turns out, Billboard allows two songs to have the same position on a weekly chart."
   ]
  },
  {
   "cell_type": "markdown",
   "metadata": {},
   "source": [
    "![image.png](./images/img1.png)"
   ]
  },
  {
   "cell_type": "markdown",
   "metadata": {},
   "source": [
    "Now, it's time to fix some weeks that have more/less than 100 entries"
   ]
  },
  {
   "cell_type": "code",
   "execution_count": 252,
   "metadata": {},
   "outputs": [
    {
     "data": {
      "text/plain": [
       "count\n",
       "100    3377\n",
       "99        5\n",
       "200       1\n",
       "Name: count, dtype: int64"
      ]
     },
     "execution_count": 252,
     "metadata": {},
     "output_type": "execute_result"
    }
   ],
   "source": [
    "df.drop('chart_url', axis=1, inplace=True)\n",
    "df.chart_date.value_counts().value_counts()"
   ]
  },
  {
   "cell_type": "code",
   "execution_count": 253,
   "metadata": {},
   "outputs": [
    {
     "data": {
      "text/plain": [
       "chart_date\n",
       "1991-11-16    99\n",
       "1991-11-23    99\n",
       "1991-11-30    99\n",
       "1991-12-07    99\n",
       "1991-12-14    99\n",
       "Name: count, dtype: int64"
      ]
     },
     "execution_count": 253,
     "metadata": {},
     "output_type": "execute_result"
    }
   ],
   "source": [
    "df['chart_date'].value_counts()[df['chart_date'].value_counts() == 99]"
   ]
  },
  {
   "cell_type": "code",
   "execution_count": 254,
   "metadata": {},
   "outputs": [
    {
     "data": {
      "text/html": [
       "<div>\n",
       "<style scoped>\n",
       "    .dataframe tbody tr th:only-of-type {\n",
       "        vertical-align: middle;\n",
       "    }\n",
       "\n",
       "    .dataframe tbody tr th {\n",
       "        vertical-align: top;\n",
       "    }\n",
       "\n",
       "    .dataframe thead th {\n",
       "        text-align: right;\n",
       "    }\n",
       "</style>\n",
       "<table border=\"1\" class=\"dataframe\">\n",
       "  <thead>\n",
       "    <tr style=\"text-align: right;\">\n",
       "      <th></th>\n",
       "      <th>chart_position</th>\n",
       "      <th>chart_date</th>\n",
       "      <th>song</th>\n",
       "      <th>performer</th>\n",
       "    </tr>\n",
       "  </thead>\n",
       "  <tbody>\n",
       "    <tr>\n",
       "      <th>174096</th>\n",
       "      <td>1</td>\n",
       "      <td>1991-12-14</td>\n",
       "      <td>Black Or White</td>\n",
       "      <td>Michael Jackson</td>\n",
       "    </tr>\n",
       "    <tr>\n",
       "      <th>174097</th>\n",
       "      <td>2</td>\n",
       "      <td>1991-12-14</td>\n",
       "      <td>It's So Hard To Say Goodbye To Yesterday</td>\n",
       "      <td>Boyz II Men</td>\n",
       "    </tr>\n",
       "    <tr>\n",
       "      <th>174098</th>\n",
       "      <td>3</td>\n",
       "      <td>1991-12-14</td>\n",
       "      <td>Set Adrift On Memory Bliss</td>\n",
       "      <td>P.M. Dawn</td>\n",
       "    </tr>\n",
       "    <tr>\n",
       "      <th>174099</th>\n",
       "      <td>4</td>\n",
       "      <td>1991-12-14</td>\n",
       "      <td>When A Man Loves A Woman</td>\n",
       "      <td>Michael Bolton</td>\n",
       "    </tr>\n",
       "    <tr>\n",
       "      <th>174100</th>\n",
       "      <td>5</td>\n",
       "      <td>1991-12-14</td>\n",
       "      <td>All 4 Love</td>\n",
       "      <td>Color Me Badd</td>\n",
       "    </tr>\n",
       "    <tr>\n",
       "      <th>...</th>\n",
       "      <td>...</td>\n",
       "      <td>...</td>\n",
       "      <td>...</td>\n",
       "      <td>...</td>\n",
       "    </tr>\n",
       "    <tr>\n",
       "      <th>174190</th>\n",
       "      <td>95</td>\n",
       "      <td>1991-12-14</td>\n",
       "      <td>Groovin'</td>\n",
       "      <td>UB40</td>\n",
       "    </tr>\n",
       "    <tr>\n",
       "      <th>174191</th>\n",
       "      <td>96</td>\n",
       "      <td>1991-12-14</td>\n",
       "      <td>Lies</td>\n",
       "      <td>EMF</td>\n",
       "    </tr>\n",
       "    <tr>\n",
       "      <th>174192</th>\n",
       "      <td>97</td>\n",
       "      <td>1991-12-14</td>\n",
       "      <td>Monsters And Angels</td>\n",
       "      <td>Voice Of The Beehive</td>\n",
       "    </tr>\n",
       "    <tr>\n",
       "      <th>174193</th>\n",
       "      <td>99</td>\n",
       "      <td>1991-12-14</td>\n",
       "      <td>Walk Through Fire</td>\n",
       "      <td>Bad Company</td>\n",
       "    </tr>\n",
       "    <tr>\n",
       "      <th>174194</th>\n",
       "      <td>100</td>\n",
       "      <td>1991-12-14</td>\n",
       "      <td>Move Any Mountain</td>\n",
       "      <td>The Shamen</td>\n",
       "    </tr>\n",
       "  </tbody>\n",
       "</table>\n",
       "<p>99 rows × 4 columns</p>\n",
       "</div>"
      ],
      "text/plain": [
       "        chart_position chart_date                                      song  \\\n",
       "174096               1 1991-12-14                            Black Or White   \n",
       "174097               2 1991-12-14  It's So Hard To Say Goodbye To Yesterday   \n",
       "174098               3 1991-12-14                Set Adrift On Memory Bliss   \n",
       "174099               4 1991-12-14                  When A Man Loves A Woman   \n",
       "174100               5 1991-12-14                                All 4 Love   \n",
       "...                ...        ...                                       ...   \n",
       "174190              95 1991-12-14                                  Groovin'   \n",
       "174191              96 1991-12-14                                      Lies   \n",
       "174192              97 1991-12-14                       Monsters And Angels   \n",
       "174193              99 1991-12-14                         Walk Through Fire   \n",
       "174194             100 1991-12-14                         Move Any Mountain   \n",
       "\n",
       "                   performer  \n",
       "174096       Michael Jackson  \n",
       "174097           Boyz II Men  \n",
       "174098             P.M. Dawn  \n",
       "174099        Michael Bolton  \n",
       "174100         Color Me Badd  \n",
       "...                      ...  \n",
       "174190                  UB40  \n",
       "174191                   EMF  \n",
       "174192  Voice Of The Beehive  \n",
       "174193           Bad Company  \n",
       "174194            The Shamen  \n",
       "\n",
       "[99 rows x 4 columns]"
      ]
     },
     "execution_count": 254,
     "metadata": {},
     "output_type": "execute_result"
    }
   ],
   "source": [
    "missing_value_dates = ['1991-11-16', '1991-11-23', '1991-11-30', '1991-12-07', '1991-12-14']\n",
    "df[df['chart_date'] == '1991-12-14']"
   ]
  },
  {
   "cell_type": "code",
   "execution_count": 255,
   "metadata": {},
   "outputs": [
    {
     "name": "stderr",
     "output_type": "stream",
     "text": [
      "/var/folders/qk/t7psjtl510s8pvxmhbfn6v780000gn/T/ipykernel_16887/3590533813.py:7: UserWarning: Boolean Series key will be reindexed to match DataFrame index.\n",
      "  df[df['chart_date'].isin(missing_value_dates)][df['chart_position'] == previous_missing_pos]\n"
     ]
    },
    {
     "data": {
      "text/html": [
       "<div>\n",
       "<style scoped>\n",
       "    .dataframe tbody tr th:only-of-type {\n",
       "        vertical-align: middle;\n",
       "    }\n",
       "\n",
       "    .dataframe tbody tr th {\n",
       "        vertical-align: top;\n",
       "    }\n",
       "\n",
       "    .dataframe thead th {\n",
       "        text-align: right;\n",
       "    }\n",
       "</style>\n",
       "<table border=\"1\" class=\"dataframe\">\n",
       "  <thead>\n",
       "    <tr style=\"text-align: right;\">\n",
       "      <th></th>\n",
       "      <th>chart_position</th>\n",
       "      <th>chart_date</th>\n",
       "      <th>song</th>\n",
       "      <th>performer</th>\n",
       "    </tr>\n",
       "  </thead>\n",
       "  <tbody>\n",
       "    <tr>\n",
       "      <th>173797</th>\n",
       "      <td>98</td>\n",
       "      <td>1991-11-16</td>\n",
       "      <td>Try A Little Tenderness</td>\n",
       "      <td>The Commitments</td>\n",
       "    </tr>\n",
       "    <tr>\n",
       "      <th>173895</th>\n",
       "      <td>98</td>\n",
       "      <td>1991-11-23</td>\n",
       "      <td>Groovin'</td>\n",
       "      <td>UB40</td>\n",
       "    </tr>\n",
       "    <tr>\n",
       "      <th>173994</th>\n",
       "      <td>98</td>\n",
       "      <td>1991-11-30</td>\n",
       "      <td>True Companion</td>\n",
       "      <td>Marc Cohn</td>\n",
       "    </tr>\n",
       "    <tr>\n",
       "      <th>174093</th>\n",
       "      <td>98</td>\n",
       "      <td>1991-12-07</td>\n",
       "      <td>My Heart Belongs To You</td>\n",
       "      <td>Russ Irwin</td>\n",
       "    </tr>\n",
       "  </tbody>\n",
       "</table>\n",
       "</div>"
      ],
      "text/plain": [
       "        chart_position chart_date                     song        performer\n",
       "173797              98 1991-11-16  Try A Little Tenderness  The Commitments\n",
       "173895              98 1991-11-23                 Groovin'             UB40\n",
       "173994              98 1991-11-30           True Companion        Marc Cohn\n",
       "174093              98 1991-12-07  My Heart Belongs To You       Russ Irwin"
      ]
     },
     "execution_count": 255,
     "metadata": {},
     "output_type": "execute_result"
    }
   ],
   "source": [
    "# Finding the missing position on the chart by comparing it to a range from 1..100\n",
    "\n",
    "missing_pos = [i for i in [*range(1,100)] if i not in\n",
    "            [*df[df['chart_date'] == '1991-11-16']['chart_position'].values]]\n",
    "# Finding the index of the song that has the position on the chart right before the missing row to insert\n",
    "previous_missing_pos = missing_pos[0] - 1\n",
    "df[df['chart_date'].isin(missing_value_dates)][df['chart_position'] == previous_missing_pos]"
   ]
  },
  {
   "cell_type": "code",
   "execution_count": 256,
   "metadata": {},
   "outputs": [
    {
     "name": "stderr",
     "output_type": "stream",
     "text": [
      "/var/folders/qk/t7psjtl510s8pvxmhbfn6v780000gn/T/ipykernel_16887/3088717047.py:6: UserWarning: Boolean Series key will be reindexed to match DataFrame index.\n",
      "  df[df['chart_date'] == '1991-12-14'][df['chart_position'] == previous_missing_pos_last]\n"
     ]
    },
    {
     "data": {
      "text/html": [
       "<div>\n",
       "<style scoped>\n",
       "    .dataframe tbody tr th:only-of-type {\n",
       "        vertical-align: middle;\n",
       "    }\n",
       "\n",
       "    .dataframe tbody tr th {\n",
       "        vertical-align: top;\n",
       "    }\n",
       "\n",
       "    .dataframe thead th {\n",
       "        text-align: right;\n",
       "    }\n",
       "</style>\n",
       "<table border=\"1\" class=\"dataframe\">\n",
       "  <thead>\n",
       "    <tr style=\"text-align: right;\">\n",
       "      <th></th>\n",
       "      <th>chart_position</th>\n",
       "      <th>chart_date</th>\n",
       "      <th>song</th>\n",
       "      <th>performer</th>\n",
       "    </tr>\n",
       "  </thead>\n",
       "  <tbody>\n",
       "    <tr>\n",
       "      <th>174192</th>\n",
       "      <td>97</td>\n",
       "      <td>1991-12-14</td>\n",
       "      <td>Monsters And Angels</td>\n",
       "      <td>Voice Of The Beehive</td>\n",
       "    </tr>\n",
       "  </tbody>\n",
       "</table>\n",
       "</div>"
      ],
      "text/plain": [
       "        chart_position chart_date                 song             performer\n",
       "174192              97 1991-12-14  Monsters And Angels  Voice Of The Beehive"
      ]
     },
     "execution_count": 256,
     "metadata": {},
     "output_type": "execute_result"
    }
   ],
   "source": [
    "# It seems like the first 4 dates in ['1991-11-16', '1991-11-23', '1991-11-30', '1991-12-07', '1991-12-14'] is missing \n",
    "# the entry at the same position except for the '1991-12-14'\n",
    "missing_pos_last = [i for i in [*range(1,100)] if i not in\n",
    "            [*df[df['chart_date'] == '1991-12-14']['chart_position'].values]]\n",
    "previous_missing_pos_last = missing_pos_last[0] - 1\n",
    "df[df['chart_date'] == '1991-12-14'][df['chart_position'] == previous_missing_pos_last]"
   ]
  },
  {
   "cell_type": "markdown",
   "metadata": {},
   "source": [
    "Adding missing values"
   ]
  },
  {
   "cell_type": "code",
   "execution_count": 257,
   "metadata": {},
   "outputs": [],
   "source": [
    "from datetime import datetime\n",
    "df.loc[173797.5] = [99,'1991-11-16','Into The Great Wide Open', 'Tom Petty And The Heartbreakers']\n",
    "df.loc[173895.5] = [99,'1991-11-23','Ain\\'t No Future In Yo\\' Fronting', 'M.C. Breed & D.F.C.']\n",
    "df.loc[174093.5] = [99,'1991-11-30','Stand By My Woman', 'Lenny Kravitz']\n",
    "df.loc[173994.5] = [99,'1991-12-07','Do You Feel Like I Feel?', 'Belinda Carlisle']\n",
    "df.loc[174192.5] = [98,'1991-12-14','Into The Great Wide Open', 'Tom Petty And The Heartbreakers']\n",
    "df['chart_date'] = pd.to_datetime(df['chart_date'], format='%Y-%m-%d')\n",
    "df = df.sort_index().reset_index(drop=True)\n"
   ]
  },
  {
   "cell_type": "code",
   "execution_count": 258,
   "metadata": {},
   "outputs": [
    {
     "data": {
      "text/html": [
       "<div>\n",
       "<style scoped>\n",
       "    .dataframe tbody tr th:only-of-type {\n",
       "        vertical-align: middle;\n",
       "    }\n",
       "\n",
       "    .dataframe tbody tr th {\n",
       "        vertical-align: top;\n",
       "    }\n",
       "\n",
       "    .dataframe thead th {\n",
       "        text-align: right;\n",
       "    }\n",
       "</style>\n",
       "<table border=\"1\" class=\"dataframe\">\n",
       "  <thead>\n",
       "    <tr style=\"text-align: right;\">\n",
       "      <th></th>\n",
       "      <th>chart_position</th>\n",
       "      <th>chart_date</th>\n",
       "      <th>song</th>\n",
       "      <th>performer</th>\n",
       "    </tr>\n",
       "  </thead>\n",
       "  <tbody>\n",
       "    <tr>\n",
       "      <th>173700</th>\n",
       "      <td>1</td>\n",
       "      <td>1991-11-16</td>\n",
       "      <td>Cream</td>\n",
       "      <td>Prince And The N.P.G.</td>\n",
       "    </tr>\n",
       "    <tr>\n",
       "      <th>173701</th>\n",
       "      <td>2</td>\n",
       "      <td>1991-11-16</td>\n",
       "      <td>Can't Stop This Thing We Started</td>\n",
       "      <td>Bryan Adams</td>\n",
       "    </tr>\n",
       "    <tr>\n",
       "      <th>173702</th>\n",
       "      <td>3</td>\n",
       "      <td>1991-11-16</td>\n",
       "      <td>When A Man Loves A Woman</td>\n",
       "      <td>Michael Bolton</td>\n",
       "    </tr>\n",
       "    <tr>\n",
       "      <th>173703</th>\n",
       "      <td>4</td>\n",
       "      <td>1991-11-16</td>\n",
       "      <td>It's So Hard To Say Goodbye To Yesterday</td>\n",
       "      <td>Boyz II Men</td>\n",
       "    </tr>\n",
       "    <tr>\n",
       "      <th>173704</th>\n",
       "      <td>5</td>\n",
       "      <td>1991-11-16</td>\n",
       "      <td>Set Adrift On Memory Bliss</td>\n",
       "      <td>P.M. Dawn</td>\n",
       "    </tr>\n",
       "    <tr>\n",
       "      <th>...</th>\n",
       "      <td>...</td>\n",
       "      <td>...</td>\n",
       "      <td>...</td>\n",
       "      <td>...</td>\n",
       "    </tr>\n",
       "    <tr>\n",
       "      <th>173795</th>\n",
       "      <td>96</td>\n",
       "      <td>1991-11-16</td>\n",
       "      <td>Love Me All Up</td>\n",
       "      <td>Stacy Earl</td>\n",
       "    </tr>\n",
       "    <tr>\n",
       "      <th>173796</th>\n",
       "      <td>97</td>\n",
       "      <td>1991-11-16</td>\n",
       "      <td>Love. . .Thy Will Be Done</td>\n",
       "      <td>Martika</td>\n",
       "    </tr>\n",
       "    <tr>\n",
       "      <th>173797</th>\n",
       "      <td>98</td>\n",
       "      <td>1991-11-16</td>\n",
       "      <td>Try A Little Tenderness</td>\n",
       "      <td>The Commitments</td>\n",
       "    </tr>\n",
       "    <tr>\n",
       "      <th>173798</th>\n",
       "      <td>99</td>\n",
       "      <td>1991-11-16</td>\n",
       "      <td>Into The Great Wide Open</td>\n",
       "      <td>Tom Petty And The Heartbreakers</td>\n",
       "    </tr>\n",
       "    <tr>\n",
       "      <th>173799</th>\n",
       "      <td>100</td>\n",
       "      <td>1991-11-16</td>\n",
       "      <td>Forever More</td>\n",
       "      <td>Stevie B</td>\n",
       "    </tr>\n",
       "  </tbody>\n",
       "</table>\n",
       "<p>100 rows × 4 columns</p>\n",
       "</div>"
      ],
      "text/plain": [
       "        chart_position chart_date                                      song  \\\n",
       "173700               1 1991-11-16                                     Cream   \n",
       "173701               2 1991-11-16          Can't Stop This Thing We Started   \n",
       "173702               3 1991-11-16                  When A Man Loves A Woman   \n",
       "173703               4 1991-11-16  It's So Hard To Say Goodbye To Yesterday   \n",
       "173704               5 1991-11-16                Set Adrift On Memory Bliss   \n",
       "...                ...        ...                                       ...   \n",
       "173795              96 1991-11-16                            Love Me All Up   \n",
       "173796              97 1991-11-16                 Love. . .Thy Will Be Done   \n",
       "173797              98 1991-11-16                   Try A Little Tenderness   \n",
       "173798              99 1991-11-16                  Into The Great Wide Open   \n",
       "173799             100 1991-11-16                              Forever More   \n",
       "\n",
       "                              performer  \n",
       "173700            Prince And The N.P.G.  \n",
       "173701                      Bryan Adams  \n",
       "173702                   Michael Bolton  \n",
       "173703                      Boyz II Men  \n",
       "173704                        P.M. Dawn  \n",
       "...                                 ...  \n",
       "173795                       Stacy Earl  \n",
       "173796                          Martika  \n",
       "173797                  The Commitments  \n",
       "173798  Tom Petty And The Heartbreakers  \n",
       "173799                         Stevie B  \n",
       "\n",
       "[100 rows x 4 columns]"
      ]
     },
     "execution_count": 258,
     "metadata": {},
     "output_type": "execute_result"
    }
   ],
   "source": [
    "df[df['chart_date'] == '1991-11-16']"
   ]
  },
  {
   "cell_type": "code",
   "execution_count": 259,
   "metadata": {},
   "outputs": [
    {
     "data": {
      "text/plain": [
       "chart_date\n",
       "2023-01-07    200\n",
       "Name: count, dtype: int64"
      ]
     },
     "execution_count": 259,
     "metadata": {},
     "output_type": "execute_result"
    }
   ],
   "source": [
    "df['chart_date'].value_counts()[df['chart_date'].value_counts() == 200]"
   ]
  },
  {
   "cell_type": "code",
   "execution_count": null,
   "metadata": {},
   "outputs": [],
   "source": []
  }
 ],
 "metadata": {
  "kernelspec": {
   "display_name": "Python 3",
   "language": "python",
   "name": "python3"
  },
  "language_info": {
   "codemirror_mode": {
    "name": "ipython",
    "version": 3
   },
   "file_extension": ".py",
   "mimetype": "text/x-python",
   "name": "python",
   "nbconvert_exporter": "python",
   "pygments_lexer": "ipython3",
   "version": "3.11.4"
  },
  "orig_nbformat": 4
 },
 "nbformat": 4,
 "nbformat_minor": 2
}
