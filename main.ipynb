{
 "cells": [
  {
   "cell_type": "code",
   "execution_count": 51,
   "metadata": {},
   "outputs": [],
   "source": [
    "import pandas as pd\n",
    "import numpy as np\n",
    "pd.set_option('display.max_rows', 25)"
   ]
  },
  {
   "cell_type": "markdown",
   "metadata": {},
   "source": [
    "# Data manipulation"
   ]
  },
  {
   "cell_type": "markdown",
   "metadata": {},
   "source": [
    "### Cleaning data"
   ]
  },
  {
   "cell_type": "code",
   "execution_count": 52,
   "metadata": {},
   "outputs": [],
   "source": [
    "df = pd.read_csv(\"./Billboard Hot 100 since 1958.csv\")"
   ]
  },
  {
   "cell_type": "code",
   "execution_count": 53,
   "metadata": {},
   "outputs": [
    {
     "data": {
      "text/plain": [
       "Index(['chart_position', 'chart_date', 'song', 'performer', 'song_id',\n",
       "       'instance', 'time_on_chart', 'consecutive_weeks', 'previous_week',\n",
       "       'peak_position', 'worst_position', 'chart_debut', 'chart_url'],\n",
       "      dtype='object')"
      ]
     },
     "execution_count": 53,
     "metadata": {},
     "output_type": "execute_result"
    }
   ],
   "source": [
    "df.columns"
   ]
  },
  {
   "cell_type": "code",
   "execution_count": 54,
   "metadata": {},
   "outputs": [
    {
     "data": {
      "text/plain": [
       "chart_position           0\n",
       "chart_date               0\n",
       "song                     0\n",
       "performer                0\n",
       "song_id                  0\n",
       "instance                 0\n",
       "time_on_chart            0\n",
       "consecutive_weeks    33667\n",
       "previous_week        33667\n",
       "peak_position            0\n",
       "worst_position           0\n",
       "chart_debut              0\n",
       "chart_url                0\n",
       "dtype: int64"
      ]
     },
     "execution_count": 54,
     "metadata": {},
     "output_type": "execute_result"
    }
   ],
   "source": [
    "df.isnull().sum()"
   ]
  },
  {
   "cell_type": "code",
   "execution_count": 55,
   "metadata": {},
   "outputs": [
    {
     "data": {
      "text/plain": [
       "(338395, 13)"
      ]
     },
     "execution_count": 55,
     "metadata": {},
     "output_type": "execute_result"
    }
   ],
   "source": [
    "df.shape"
   ]
  },
  {
   "cell_type": "code",
   "execution_count": 56,
   "metadata": {},
   "outputs": [
    {
     "data": {
      "text/plain": [
       "chart_date\n",
       "1958-08-02    100\n",
       "1958-08-09    100\n",
       "1958-08-16    100\n",
       "1958-08-23    100\n",
       "1958-08-30    100\n",
       "1958-09-06    100\n",
       "1958-09-13    100\n",
       "1958-09-20    100\n",
       "1958-09-27    100\n",
       "1958-10-04    100\n",
       "Name: count, dtype: int64"
      ]
     },
     "execution_count": 56,
     "metadata": {},
     "output_type": "execute_result"
    }
   ],
   "source": [
    "df['chart_date'] = pd.to_datetime(df['chart_date'], format='%Y-%m-%d')\n",
    "df.drop(['chart_position'], axis=1)\n",
    "df.sort_values(['chart_date', 'chart_position'], ascending=[True, True], inplace=True)\n",
    "df.reset_index(drop=True, inplace=True)\n",
    "df.head(1000)['chart_date'].value_counts()"
   ]
  },
  {
   "cell_type": "code",
   "execution_count": 57,
   "metadata": {},
   "outputs": [
    {
     "data": {
      "text/html": [
       "<div>\n",
       "<style scoped>\n",
       "    .dataframe tbody tr th:only-of-type {\n",
       "        vertical-align: middle;\n",
       "    }\n",
       "\n",
       "    .dataframe tbody tr th {\n",
       "        vertical-align: top;\n",
       "    }\n",
       "\n",
       "    .dataframe thead th {\n",
       "        text-align: right;\n",
       "    }\n",
       "</style>\n",
       "<table border=\"1\" class=\"dataframe\">\n",
       "  <thead>\n",
       "    <tr style=\"text-align: right;\">\n",
       "      <th></th>\n",
       "      <th>chart_position</th>\n",
       "      <th>chart_date</th>\n",
       "      <th>chart_day</th>\n",
       "      <th>song</th>\n",
       "      <th>performer</th>\n",
       "      <th>chart_url</th>\n",
       "    </tr>\n",
       "  </thead>\n",
       "  <tbody>\n",
       "    <tr>\n",
       "      <th>0</th>\n",
       "      <td>1</td>\n",
       "      <td>1958-08-02</td>\n",
       "      <td>Saturday</td>\n",
       "      <td>Poor Little Fool</td>\n",
       "      <td>Ricky Nelson</td>\n",
       "      <td>https://www.billboard.com/charts/hot-100/1958-...</td>\n",
       "    </tr>\n",
       "    <tr>\n",
       "      <th>1</th>\n",
       "      <td>2</td>\n",
       "      <td>1958-08-02</td>\n",
       "      <td>Saturday</td>\n",
       "      <td>Patricia</td>\n",
       "      <td>Perez Prado And His Orchestra</td>\n",
       "      <td>https://www.billboard.com/charts/hot-100/1958-...</td>\n",
       "    </tr>\n",
       "    <tr>\n",
       "      <th>2</th>\n",
       "      <td>3</td>\n",
       "      <td>1958-08-02</td>\n",
       "      <td>Saturday</td>\n",
       "      <td>Splish Splash</td>\n",
       "      <td>Bobby Darin</td>\n",
       "      <td>https://www.billboard.com/charts/hot-100/1958-...</td>\n",
       "    </tr>\n",
       "    <tr>\n",
       "      <th>3</th>\n",
       "      <td>4</td>\n",
       "      <td>1958-08-02</td>\n",
       "      <td>Saturday</td>\n",
       "      <td>Hard Headed Woman</td>\n",
       "      <td>Elvis Presley With The Jordanaires</td>\n",
       "      <td>https://www.billboard.com/charts/hot-100/1958-...</td>\n",
       "    </tr>\n",
       "    <tr>\n",
       "      <th>4</th>\n",
       "      <td>5</td>\n",
       "      <td>1958-08-02</td>\n",
       "      <td>Saturday</td>\n",
       "      <td>When</td>\n",
       "      <td>Kalin Twins</td>\n",
       "      <td>https://www.billboard.com/charts/hot-100/1958-...</td>\n",
       "    </tr>\n",
       "    <tr>\n",
       "      <th>...</th>\n",
       "      <td>...</td>\n",
       "      <td>...</td>\n",
       "      <td>...</td>\n",
       "      <td>...</td>\n",
       "      <td>...</td>\n",
       "      <td>...</td>\n",
       "    </tr>\n",
       "    <tr>\n",
       "      <th>338390</th>\n",
       "      <td>96</td>\n",
       "      <td>2023-05-27</td>\n",
       "      <td>Saturday</td>\n",
       "      <td>Forever</td>\n",
       "      <td>Lil Baby Featuring Fridayy</td>\n",
       "      <td>https://www.billboard.com/charts/hot-100/2023-...</td>\n",
       "    </tr>\n",
       "    <tr>\n",
       "      <th>338391</th>\n",
       "      <td>97</td>\n",
       "      <td>2023-05-27</td>\n",
       "      <td>Saturday</td>\n",
       "      <td>Private Landing</td>\n",
       "      <td>Don Toliver Featuring Justin Bieber &amp; Future</td>\n",
       "      <td>https://www.billboard.com/charts/hot-100/2023-...</td>\n",
       "    </tr>\n",
       "    <tr>\n",
       "      <th>338392</th>\n",
       "      <td>98</td>\n",
       "      <td>2023-05-27</td>\n",
       "      <td>Saturday</td>\n",
       "      <td>I Heard</td>\n",
       "      <td>YoungBoy Never Broke Again</td>\n",
       "      <td>https://www.billboard.com/charts/hot-100/2023-...</td>\n",
       "    </tr>\n",
       "    <tr>\n",
       "      <th>338393</th>\n",
       "      <td>99</td>\n",
       "      <td>2023-05-27</td>\n",
       "      <td>Saturday</td>\n",
       "      <td>Sunrise</td>\n",
       "      <td>Morgan Wallen</td>\n",
       "      <td>https://www.billboard.com/charts/hot-100/2023-...</td>\n",
       "    </tr>\n",
       "    <tr>\n",
       "      <th>338394</th>\n",
       "      <td>100</td>\n",
       "      <td>2023-05-27</td>\n",
       "      <td>Saturday</td>\n",
       "      <td>Happy</td>\n",
       "      <td>NF</td>\n",
       "      <td>https://www.billboard.com/charts/hot-100/2023-...</td>\n",
       "    </tr>\n",
       "  </tbody>\n",
       "</table>\n",
       "<p>338395 rows × 6 columns</p>\n",
       "</div>"
      ],
      "text/plain": [
       "        chart_position chart_date chart_day               song  \\\n",
       "0                    1 1958-08-02  Saturday   Poor Little Fool   \n",
       "1                    2 1958-08-02  Saturday           Patricia   \n",
       "2                    3 1958-08-02  Saturday      Splish Splash   \n",
       "3                    4 1958-08-02  Saturday  Hard Headed Woman   \n",
       "4                    5 1958-08-02  Saturday               When   \n",
       "...                ...        ...       ...                ...   \n",
       "338390              96 2023-05-27  Saturday            Forever   \n",
       "338391              97 2023-05-27  Saturday    Private Landing   \n",
       "338392              98 2023-05-27  Saturday            I Heard   \n",
       "338393              99 2023-05-27  Saturday            Sunrise   \n",
       "338394             100 2023-05-27  Saturday              Happy   \n",
       "\n",
       "                                           performer  \\\n",
       "0                                       Ricky Nelson   \n",
       "1                      Perez Prado And His Orchestra   \n",
       "2                                        Bobby Darin   \n",
       "3                 Elvis Presley With The Jordanaires   \n",
       "4                                        Kalin Twins   \n",
       "...                                              ...   \n",
       "338390                    Lil Baby Featuring Fridayy   \n",
       "338391  Don Toliver Featuring Justin Bieber & Future   \n",
       "338392                    YoungBoy Never Broke Again   \n",
       "338393                                 Morgan Wallen   \n",
       "338394                                            NF   \n",
       "\n",
       "                                                chart_url  \n",
       "0       https://www.billboard.com/charts/hot-100/1958-...  \n",
       "1       https://www.billboard.com/charts/hot-100/1958-...  \n",
       "2       https://www.billboard.com/charts/hot-100/1958-...  \n",
       "3       https://www.billboard.com/charts/hot-100/1958-...  \n",
       "4       https://www.billboard.com/charts/hot-100/1958-...  \n",
       "...                                                   ...  \n",
       "338390  https://www.billboard.com/charts/hot-100/2023-...  \n",
       "338391  https://www.billboard.com/charts/hot-100/2023-...  \n",
       "338392  https://www.billboard.com/charts/hot-100/2023-...  \n",
       "338393  https://www.billboard.com/charts/hot-100/2023-...  \n",
       "338394  https://www.billboard.com/charts/hot-100/2023-...  \n",
       "\n",
       "[338395 rows x 6 columns]"
      ]
     },
     "execution_count": 57,
     "metadata": {},
     "output_type": "execute_result"
    }
   ],
   "source": [
    "# Check if every date is the same\n",
    "df['chart_day'] = df['chart_date'].dt.dayofweek\n",
    "df['chart_day'] = df['chart_day'].map({\n",
    "    0: 'Monday',\n",
    "    1: 'Tuesday',\n",
    "    2: 'Wednesday',\n",
    "    3: 'Thursday',\n",
    "    4: 'Friday',\n",
    "    5: 'Saturday',\n",
    "    6: 'Sunday'\n",
    "})\n",
    "df = df[['chart_position', 'chart_date', 'chart_day', 'song', 'performer' \n",
    "        #,'song_id' #, 'instance', 'time_on_chart', \n",
    "       #'consecutive_weeks', 'previous_week',\n",
    "       #'peak_position', 'worst_position', 'chart_debut'\n",
    "       , 'chart_url'\n",
    "       ]]\n",
    "df"
   ]
  },
  {
   "cell_type": "code",
   "execution_count": 58,
   "metadata": {},
   "outputs": [
    {
     "data": {
      "text/plain": [
       "chart_day\n",
       "Saturday    338395\n",
       "Name: count, dtype: int64"
      ]
     },
     "execution_count": 58,
     "metadata": {},
     "output_type": "execute_result"
    }
   ],
   "source": [
    "df['chart_day'].value_counts()"
   ]
  },
  {
   "cell_type": "markdown",
   "metadata": {},
   "source": [
    "100 % of the entries are reset on Saturday so I'm going to drop it to clean the DataFrame"
   ]
  },
  {
   "cell_type": "code",
   "execution_count": 59,
   "metadata": {},
   "outputs": [],
   "source": [
    "df.drop('chart_day', axis=1, inplace=True)"
   ]
  },
  {
   "cell_type": "code",
   "execution_count": 60,
   "metadata": {},
   "outputs": [
    {
     "data": {
      "text/plain": [
       "song\n",
       "Got A Match?                2\n",
       "Early In The Morning        2\n",
       "Over And Over               2\n",
       "Poor Little Fool            1\n",
       "High School Confidential    1\n",
       "                           ..\n",
       "Angel Baby                  1\n",
       "Enchanted Island            1\n",
       "Secretly                    1\n",
       "Think It Over               1\n",
       "Judy                        1\n",
       "Name: count, Length: 97, dtype: int64"
      ]
     },
     "execution_count": 60,
     "metadata": {},
     "output_type": "execute_result"
    }
   ],
   "source": [
    "df.head(100).song.value_counts()"
   ]
  },
  {
   "cell_type": "markdown",
   "metadata": {},
   "source": [
    "Here are some repetition, so I'm finding a way to understand it."
   ]
  },
  {
   "cell_type": "code",
   "execution_count": 61,
   "metadata": {},
   "outputs": [
    {
     "data": {
      "text/plain": [
       "chart_position\n",
       "63     2\n",
       "50     2\n",
       "74     2\n",
       "73     1\n",
       "72     1\n",
       "      ..\n",
       "31     1\n",
       "30     1\n",
       "29     1\n",
       "28     1\n",
       "100    1\n",
       "Name: count, Length: 97, dtype: int64"
      ]
     },
     "execution_count": 61,
     "metadata": {},
     "output_type": "execute_result"
    }
   ],
   "source": [
    "df.head(100).chart_position.value_counts()"
   ]
  },
  {
   "cell_type": "code",
   "execution_count": 62,
   "metadata": {},
   "outputs": [
    {
     "name": "stderr",
     "output_type": "stream",
     "text": [
      "/var/folders/qk/t7psjtl510s8pvxmhbfn6v780000gn/T/ipykernel_37401/2881002666.py:1: UserWarning: Boolean Series key will be reindexed to match DataFrame index.\n",
      "  df.head(100)[df['chart_position'].isin([50, 74, 63])].sort_values(by='chart_position')\n"
     ]
    },
    {
     "data": {
      "text/html": [
       "<div>\n",
       "<style scoped>\n",
       "    .dataframe tbody tr th:only-of-type {\n",
       "        vertical-align: middle;\n",
       "    }\n",
       "\n",
       "    .dataframe tbody tr th {\n",
       "        vertical-align: top;\n",
       "    }\n",
       "\n",
       "    .dataframe thead th {\n",
       "        text-align: right;\n",
       "    }\n",
       "</style>\n",
       "<table border=\"1\" class=\"dataframe\">\n",
       "  <thead>\n",
       "    <tr style=\"text-align: right;\">\n",
       "      <th></th>\n",
       "      <th>chart_position</th>\n",
       "      <th>chart_date</th>\n",
       "      <th>song</th>\n",
       "      <th>performer</th>\n",
       "      <th>chart_url</th>\n",
       "    </tr>\n",
       "  </thead>\n",
       "  <tbody>\n",
       "    <tr>\n",
       "      <th>49</th>\n",
       "      <td>50</td>\n",
       "      <td>1958-08-02</td>\n",
       "      <td>Baubles, Bangles And Beads</td>\n",
       "      <td>The Kirby Stone Four</td>\n",
       "      <td>https://www.billboard.com/charts/hot-100/1958-...</td>\n",
       "    </tr>\n",
       "    <tr>\n",
       "      <th>50</th>\n",
       "      <td>50</td>\n",
       "      <td>1958-08-02</td>\n",
       "      <td>By The Light Of The Silvery Moon</td>\n",
       "      <td>Jimmy Bowen with the Rhythm Orchids</td>\n",
       "      <td>https://www.billboard.com/charts/hot-100/1958-...</td>\n",
       "    </tr>\n",
       "    <tr>\n",
       "      <th>62</th>\n",
       "      <td>63</td>\n",
       "      <td>1958-08-02</td>\n",
       "      <td>High School Confidential</td>\n",
       "      <td>Jerry Lee Lewis And His Pumping Piano</td>\n",
       "      <td>https://www.billboard.com/charts/hot-100/1958-...</td>\n",
       "    </tr>\n",
       "    <tr>\n",
       "      <th>63</th>\n",
       "      <td>63</td>\n",
       "      <td>1958-08-02</td>\n",
       "      <td>Padre</td>\n",
       "      <td>Toni Arden</td>\n",
       "      <td>https://www.billboard.com/charts/hot-100/1958-...</td>\n",
       "    </tr>\n",
       "    <tr>\n",
       "      <th>73</th>\n",
       "      <td>74</td>\n",
       "      <td>1958-08-02</td>\n",
       "      <td>Gotta Have Rain</td>\n",
       "      <td>Eydie Gorme</td>\n",
       "      <td>https://www.billboard.com/charts/hot-100/1958-...</td>\n",
       "    </tr>\n",
       "    <tr>\n",
       "      <th>74</th>\n",
       "      <td>74</td>\n",
       "      <td>1958-08-02</td>\n",
       "      <td>Win Your Love For Me</td>\n",
       "      <td>Sam Cooke</td>\n",
       "      <td>https://www.billboard.com/charts/hot-100/1958-...</td>\n",
       "    </tr>\n",
       "  </tbody>\n",
       "</table>\n",
       "</div>"
      ],
      "text/plain": [
       "    chart_position chart_date                              song  \\\n",
       "49              50 1958-08-02        Baubles, Bangles And Beads   \n",
       "50              50 1958-08-02  By The Light Of The Silvery Moon   \n",
       "62              63 1958-08-02          High School Confidential   \n",
       "63              63 1958-08-02                             Padre   \n",
       "73              74 1958-08-02                   Gotta Have Rain   \n",
       "74              74 1958-08-02              Win Your Love For Me   \n",
       "\n",
       "                                performer  \\\n",
       "49                   The Kirby Stone Four   \n",
       "50    Jimmy Bowen with the Rhythm Orchids   \n",
       "62  Jerry Lee Lewis And His Pumping Piano   \n",
       "63                             Toni Arden   \n",
       "73                            Eydie Gorme   \n",
       "74                              Sam Cooke   \n",
       "\n",
       "                                            chart_url  \n",
       "49  https://www.billboard.com/charts/hot-100/1958-...  \n",
       "50  https://www.billboard.com/charts/hot-100/1958-...  \n",
       "62  https://www.billboard.com/charts/hot-100/1958-...  \n",
       "63  https://www.billboard.com/charts/hot-100/1958-...  \n",
       "73  https://www.billboard.com/charts/hot-100/1958-...  \n",
       "74  https://www.billboard.com/charts/hot-100/1958-...  "
      ]
     },
     "execution_count": 62,
     "metadata": {},
     "output_type": "execute_result"
    }
   ],
   "source": [
    "df.head(100)[df['chart_position'].isin([50, 74, 63])].sort_values(by='chart_position')"
   ]
  },
  {
   "cell_type": "code",
   "execution_count": 63,
   "metadata": {},
   "outputs": [
    {
     "data": {
      "text/plain": [
       "'https://www.billboard.com/charts/hot-100/1958-08-02'"
      ]
     },
     "execution_count": 63,
     "metadata": {},
     "output_type": "execute_result"
    }
   ],
   "source": [
    "# Rechecking the db with that on billboard website\n",
    "df.at[22, 'chart_url']"
   ]
  },
  {
   "cell_type": "code",
   "execution_count": 64,
   "metadata": {},
   "outputs": [
    {
     "data": {
      "text/html": [
       "<div>\n",
       "<style scoped>\n",
       "    .dataframe tbody tr th:only-of-type {\n",
       "        vertical-align: middle;\n",
       "    }\n",
       "\n",
       "    .dataframe tbody tr th {\n",
       "        vertical-align: top;\n",
       "    }\n",
       "\n",
       "    .dataframe thead th {\n",
       "        text-align: right;\n",
       "    }\n",
       "</style>\n",
       "<table border=\"1\" class=\"dataframe\">\n",
       "  <thead>\n",
       "    <tr style=\"text-align: right;\">\n",
       "      <th></th>\n",
       "      <th>chart_position</th>\n",
       "      <th>chart_date</th>\n",
       "      <th>song</th>\n",
       "      <th>performer</th>\n",
       "      <th>chart_url</th>\n",
       "    </tr>\n",
       "  </thead>\n",
       "  <tbody>\n",
       "    <tr>\n",
       "      <th>0</th>\n",
       "      <td>1</td>\n",
       "      <td>1958-08-02</td>\n",
       "      <td>Poor Little Fool</td>\n",
       "      <td>Ricky Nelson</td>\n",
       "      <td>https://www.billboard.com/charts/hot-100/1958-...</td>\n",
       "    </tr>\n",
       "    <tr>\n",
       "      <th>1</th>\n",
       "      <td>2</td>\n",
       "      <td>1958-08-02</td>\n",
       "      <td>Patricia</td>\n",
       "      <td>Perez Prado And His Orchestra</td>\n",
       "      <td>https://www.billboard.com/charts/hot-100/1958-...</td>\n",
       "    </tr>\n",
       "    <tr>\n",
       "      <th>2</th>\n",
       "      <td>3</td>\n",
       "      <td>1958-08-02</td>\n",
       "      <td>Splish Splash</td>\n",
       "      <td>Bobby Darin</td>\n",
       "      <td>https://www.billboard.com/charts/hot-100/1958-...</td>\n",
       "    </tr>\n",
       "    <tr>\n",
       "      <th>3</th>\n",
       "      <td>4</td>\n",
       "      <td>1958-08-02</td>\n",
       "      <td>Hard Headed Woman</td>\n",
       "      <td>Elvis Presley With The Jordanaires</td>\n",
       "      <td>https://www.billboard.com/charts/hot-100/1958-...</td>\n",
       "    </tr>\n",
       "    <tr>\n",
       "      <th>4</th>\n",
       "      <td>5</td>\n",
       "      <td>1958-08-02</td>\n",
       "      <td>When</td>\n",
       "      <td>Kalin Twins</td>\n",
       "      <td>https://www.billboard.com/charts/hot-100/1958-...</td>\n",
       "    </tr>\n",
       "    <tr>\n",
       "      <th>...</th>\n",
       "      <td>...</td>\n",
       "      <td>...</td>\n",
       "      <td>...</td>\n",
       "      <td>...</td>\n",
       "      <td>...</td>\n",
       "    </tr>\n",
       "    <tr>\n",
       "      <th>95</th>\n",
       "      <td>96</td>\n",
       "      <td>1958-08-02</td>\n",
       "      <td>Over And Over</td>\n",
       "      <td>Thurston Harris</td>\n",
       "      <td>https://www.billboard.com/charts/hot-100/1958-...</td>\n",
       "    </tr>\n",
       "    <tr>\n",
       "      <th>96</th>\n",
       "      <td>97</td>\n",
       "      <td>1958-08-02</td>\n",
       "      <td>I Believe In You</td>\n",
       "      <td>Robert &amp; Johnny</td>\n",
       "      <td>https://www.billboard.com/charts/hot-100/1958-...</td>\n",
       "    </tr>\n",
       "    <tr>\n",
       "      <th>97</th>\n",
       "      <td>98</td>\n",
       "      <td>1958-08-02</td>\n",
       "      <td>Little Serenade</td>\n",
       "      <td>The Ames Brothers</td>\n",
       "      <td>https://www.billboard.com/charts/hot-100/1958-...</td>\n",
       "    </tr>\n",
       "    <tr>\n",
       "      <th>98</th>\n",
       "      <td>99</td>\n",
       "      <td>1958-08-02</td>\n",
       "      <td>I'll Get By (As Long As I Have You)</td>\n",
       "      <td>Billy Williams</td>\n",
       "      <td>https://www.billboard.com/charts/hot-100/1958-...</td>\n",
       "    </tr>\n",
       "    <tr>\n",
       "      <th>99</th>\n",
       "      <td>100</td>\n",
       "      <td>1958-08-02</td>\n",
       "      <td>Judy</td>\n",
       "      <td>Frankie Vaughan</td>\n",
       "      <td>https://www.billboard.com/charts/hot-100/1958-...</td>\n",
       "    </tr>\n",
       "  </tbody>\n",
       "</table>\n",
       "<p>100 rows × 5 columns</p>\n",
       "</div>"
      ],
      "text/plain": [
       "    chart_position chart_date                                 song  \\\n",
       "0                1 1958-08-02                     Poor Little Fool   \n",
       "1                2 1958-08-02                             Patricia   \n",
       "2                3 1958-08-02                        Splish Splash   \n",
       "3                4 1958-08-02                    Hard Headed Woman   \n",
       "4                5 1958-08-02                                 When   \n",
       "..             ...        ...                                  ...   \n",
       "95              96 1958-08-02                        Over And Over   \n",
       "96              97 1958-08-02                     I Believe In You   \n",
       "97              98 1958-08-02                      Little Serenade   \n",
       "98              99 1958-08-02  I'll Get By (As Long As I Have You)   \n",
       "99             100 1958-08-02                                 Judy   \n",
       "\n",
       "                             performer  \\\n",
       "0                         Ricky Nelson   \n",
       "1        Perez Prado And His Orchestra   \n",
       "2                          Bobby Darin   \n",
       "3   Elvis Presley With The Jordanaires   \n",
       "4                          Kalin Twins   \n",
       "..                                 ...   \n",
       "95                     Thurston Harris   \n",
       "96                     Robert & Johnny   \n",
       "97                   The Ames Brothers   \n",
       "98                      Billy Williams   \n",
       "99                     Frankie Vaughan   \n",
       "\n",
       "                                            chart_url  \n",
       "0   https://www.billboard.com/charts/hot-100/1958-...  \n",
       "1   https://www.billboard.com/charts/hot-100/1958-...  \n",
       "2   https://www.billboard.com/charts/hot-100/1958-...  \n",
       "3   https://www.billboard.com/charts/hot-100/1958-...  \n",
       "4   https://www.billboard.com/charts/hot-100/1958-...  \n",
       "..                                                ...  \n",
       "95  https://www.billboard.com/charts/hot-100/1958-...  \n",
       "96  https://www.billboard.com/charts/hot-100/1958-...  \n",
       "97  https://www.billboard.com/charts/hot-100/1958-...  \n",
       "98  https://www.billboard.com/charts/hot-100/1958-...  \n",
       "99  https://www.billboard.com/charts/hot-100/1958-...  \n",
       "\n",
       "[100 rows x 5 columns]"
      ]
     },
     "execution_count": 64,
     "metadata": {},
     "output_type": "execute_result"
    }
   ],
   "source": [
    "df[df['chart_date'] == '1958-08-02']"
   ]
  },
  {
   "cell_type": "markdown",
   "metadata": {},
   "source": [
    "The df is identical to the website"
   ]
  },
  {
   "cell_type": "markdown",
   "metadata": {},
   "source": [
    "Turns out, Billboard allows two songs to have the same position on a weekly chart."
   ]
  },
  {
   "cell_type": "markdown",
   "metadata": {},
   "source": [
    "![image.png](./images/img1.png)"
   ]
  },
  {
   "cell_type": "markdown",
   "metadata": {},
   "source": [
    "Now, it's time to fix some weeks that have more/less than 100 entries"
   ]
  },
  {
   "cell_type": "code",
   "execution_count": 65,
   "metadata": {},
   "outputs": [
    {
     "data": {
      "text/plain": [
       "count\n",
       "100    3377\n",
       "99        5\n",
       "200       1\n",
       "Name: count, dtype: int64"
      ]
     },
     "execution_count": 65,
     "metadata": {},
     "output_type": "execute_result"
    }
   ],
   "source": [
    "df.drop('chart_url', axis=1, inplace=True)\n",
    "df.chart_date.value_counts().value_counts()"
   ]
  },
  {
   "cell_type": "code",
   "execution_count": 66,
   "metadata": {},
   "outputs": [
    {
     "data": {
      "text/plain": [
       "chart_date\n",
       "1991-11-16    99\n",
       "1991-11-23    99\n",
       "1991-11-30    99\n",
       "1991-12-07    99\n",
       "1991-12-14    99\n",
       "Name: count, dtype: int64"
      ]
     },
     "execution_count": 66,
     "metadata": {},
     "output_type": "execute_result"
    }
   ],
   "source": [
    "df['chart_date'].value_counts()[df['chart_date'].value_counts() == 99]"
   ]
  },
  {
   "cell_type": "code",
   "execution_count": 67,
   "metadata": {},
   "outputs": [
    {
     "data": {
      "text/html": [
       "<div>\n",
       "<style scoped>\n",
       "    .dataframe tbody tr th:only-of-type {\n",
       "        vertical-align: middle;\n",
       "    }\n",
       "\n",
       "    .dataframe tbody tr th {\n",
       "        vertical-align: top;\n",
       "    }\n",
       "\n",
       "    .dataframe thead th {\n",
       "        text-align: right;\n",
       "    }\n",
       "</style>\n",
       "<table border=\"1\" class=\"dataframe\">\n",
       "  <thead>\n",
       "    <tr style=\"text-align: right;\">\n",
       "      <th></th>\n",
       "      <th>chart_position</th>\n",
       "      <th>chart_date</th>\n",
       "      <th>song</th>\n",
       "      <th>performer</th>\n",
       "    </tr>\n",
       "  </thead>\n",
       "  <tbody>\n",
       "    <tr>\n",
       "      <th>174096</th>\n",
       "      <td>1</td>\n",
       "      <td>1991-12-14</td>\n",
       "      <td>Black Or White</td>\n",
       "      <td>Michael Jackson</td>\n",
       "    </tr>\n",
       "    <tr>\n",
       "      <th>174097</th>\n",
       "      <td>2</td>\n",
       "      <td>1991-12-14</td>\n",
       "      <td>It's So Hard To Say Goodbye To Yesterday</td>\n",
       "      <td>Boyz II Men</td>\n",
       "    </tr>\n",
       "    <tr>\n",
       "      <th>174098</th>\n",
       "      <td>3</td>\n",
       "      <td>1991-12-14</td>\n",
       "      <td>Set Adrift On Memory Bliss</td>\n",
       "      <td>P.M. Dawn</td>\n",
       "    </tr>\n",
       "    <tr>\n",
       "      <th>174099</th>\n",
       "      <td>4</td>\n",
       "      <td>1991-12-14</td>\n",
       "      <td>When A Man Loves A Woman</td>\n",
       "      <td>Michael Bolton</td>\n",
       "    </tr>\n",
       "    <tr>\n",
       "      <th>174100</th>\n",
       "      <td>5</td>\n",
       "      <td>1991-12-14</td>\n",
       "      <td>All 4 Love</td>\n",
       "      <td>Color Me Badd</td>\n",
       "    </tr>\n",
       "    <tr>\n",
       "      <th>...</th>\n",
       "      <td>...</td>\n",
       "      <td>...</td>\n",
       "      <td>...</td>\n",
       "      <td>...</td>\n",
       "    </tr>\n",
       "    <tr>\n",
       "      <th>174190</th>\n",
       "      <td>95</td>\n",
       "      <td>1991-12-14</td>\n",
       "      <td>Groovin'</td>\n",
       "      <td>UB40</td>\n",
       "    </tr>\n",
       "    <tr>\n",
       "      <th>174191</th>\n",
       "      <td>96</td>\n",
       "      <td>1991-12-14</td>\n",
       "      <td>Lies</td>\n",
       "      <td>EMF</td>\n",
       "    </tr>\n",
       "    <tr>\n",
       "      <th>174192</th>\n",
       "      <td>97</td>\n",
       "      <td>1991-12-14</td>\n",
       "      <td>Monsters And Angels</td>\n",
       "      <td>Voice Of The Beehive</td>\n",
       "    </tr>\n",
       "    <tr>\n",
       "      <th>174193</th>\n",
       "      <td>99</td>\n",
       "      <td>1991-12-14</td>\n",
       "      <td>Walk Through Fire</td>\n",
       "      <td>Bad Company</td>\n",
       "    </tr>\n",
       "    <tr>\n",
       "      <th>174194</th>\n",
       "      <td>100</td>\n",
       "      <td>1991-12-14</td>\n",
       "      <td>Move Any Mountain</td>\n",
       "      <td>The Shamen</td>\n",
       "    </tr>\n",
       "  </tbody>\n",
       "</table>\n",
       "<p>99 rows × 4 columns</p>\n",
       "</div>"
      ],
      "text/plain": [
       "        chart_position chart_date                                      song  \\\n",
       "174096               1 1991-12-14                            Black Or White   \n",
       "174097               2 1991-12-14  It's So Hard To Say Goodbye To Yesterday   \n",
       "174098               3 1991-12-14                Set Adrift On Memory Bliss   \n",
       "174099               4 1991-12-14                  When A Man Loves A Woman   \n",
       "174100               5 1991-12-14                                All 4 Love   \n",
       "...                ...        ...                                       ...   \n",
       "174190              95 1991-12-14                                  Groovin'   \n",
       "174191              96 1991-12-14                                      Lies   \n",
       "174192              97 1991-12-14                       Monsters And Angels   \n",
       "174193              99 1991-12-14                         Walk Through Fire   \n",
       "174194             100 1991-12-14                         Move Any Mountain   \n",
       "\n",
       "                   performer  \n",
       "174096       Michael Jackson  \n",
       "174097           Boyz II Men  \n",
       "174098             P.M. Dawn  \n",
       "174099        Michael Bolton  \n",
       "174100         Color Me Badd  \n",
       "...                      ...  \n",
       "174190                  UB40  \n",
       "174191                   EMF  \n",
       "174192  Voice Of The Beehive  \n",
       "174193           Bad Company  \n",
       "174194            The Shamen  \n",
       "\n",
       "[99 rows x 4 columns]"
      ]
     },
     "execution_count": 67,
     "metadata": {},
     "output_type": "execute_result"
    }
   ],
   "source": [
    "missing_value_dates = ['1991-11-16', '1991-11-23', '1991-11-30', '1991-12-07', '1991-12-14']\n",
    "df[df['chart_date'] == '1991-12-14']"
   ]
  },
  {
   "cell_type": "code",
   "execution_count": 68,
   "metadata": {},
   "outputs": [
    {
     "data": {
      "text/html": [
       "<div>\n",
       "<style scoped>\n",
       "    .dataframe tbody tr th:only-of-type {\n",
       "        vertical-align: middle;\n",
       "    }\n",
       "\n",
       "    .dataframe tbody tr th {\n",
       "        vertical-align: top;\n",
       "    }\n",
       "\n",
       "    .dataframe thead th {\n",
       "        text-align: right;\n",
       "    }\n",
       "</style>\n",
       "<table border=\"1\" class=\"dataframe\">\n",
       "  <thead>\n",
       "    <tr style=\"text-align: right;\">\n",
       "      <th></th>\n",
       "      <th>chart_position</th>\n",
       "      <th>chart_date</th>\n",
       "      <th>song</th>\n",
       "      <th>performer</th>\n",
       "    </tr>\n",
       "  </thead>\n",
       "  <tbody>\n",
       "    <tr>\n",
       "      <th>173797</th>\n",
       "      <td>98</td>\n",
       "      <td>1991-11-16</td>\n",
       "      <td>Try A Little Tenderness</td>\n",
       "      <td>The Commitments</td>\n",
       "    </tr>\n",
       "    <tr>\n",
       "      <th>173895</th>\n",
       "      <td>98</td>\n",
       "      <td>1991-11-23</td>\n",
       "      <td>Groovin'</td>\n",
       "      <td>UB40</td>\n",
       "    </tr>\n",
       "    <tr>\n",
       "      <th>173994</th>\n",
       "      <td>98</td>\n",
       "      <td>1991-11-30</td>\n",
       "      <td>True Companion</td>\n",
       "      <td>Marc Cohn</td>\n",
       "    </tr>\n",
       "    <tr>\n",
       "      <th>174093</th>\n",
       "      <td>98</td>\n",
       "      <td>1991-12-07</td>\n",
       "      <td>My Heart Belongs To You</td>\n",
       "      <td>Russ Irwin</td>\n",
       "    </tr>\n",
       "  </tbody>\n",
       "</table>\n",
       "</div>"
      ],
      "text/plain": [
       "        chart_position chart_date                     song        performer\n",
       "173797              98 1991-11-16  Try A Little Tenderness  The Commitments\n",
       "173895              98 1991-11-23                 Groovin'             UB40\n",
       "173994              98 1991-11-30           True Companion        Marc Cohn\n",
       "174093              98 1991-12-07  My Heart Belongs To You       Russ Irwin"
      ]
     },
     "execution_count": 68,
     "metadata": {},
     "output_type": "execute_result"
    }
   ],
   "source": [
    "# Finding the missing position on the chart by comparing it to a range from 1..100\n",
    "\n",
    "missing_pos = [i for i in [*range(1,100)] if i not in\n",
    "            [*df[df['chart_date'] == '1991-11-16']['chart_position'].values]]\n",
    "# Finding the index of the song that has the position on the chart right before the missing row to insert\n",
    "previous_missing_pos = missing_pos[0] - 1\n",
    "df.query(\"chart_date.isin(@missing_value_dates) & chart_position == @previous_missing_pos\")"
   ]
  },
  {
   "cell_type": "code",
   "execution_count": 69,
   "metadata": {},
   "outputs": [
    {
     "data": {
      "text/html": [
       "<div>\n",
       "<style scoped>\n",
       "    .dataframe tbody tr th:only-of-type {\n",
       "        vertical-align: middle;\n",
       "    }\n",
       "\n",
       "    .dataframe tbody tr th {\n",
       "        vertical-align: top;\n",
       "    }\n",
       "\n",
       "    .dataframe thead th {\n",
       "        text-align: right;\n",
       "    }\n",
       "</style>\n",
       "<table border=\"1\" class=\"dataframe\">\n",
       "  <thead>\n",
       "    <tr style=\"text-align: right;\">\n",
       "      <th></th>\n",
       "      <th>chart_position</th>\n",
       "      <th>chart_date</th>\n",
       "      <th>song</th>\n",
       "      <th>performer</th>\n",
       "    </tr>\n",
       "  </thead>\n",
       "  <tbody>\n",
       "    <tr>\n",
       "      <th>174192</th>\n",
       "      <td>97</td>\n",
       "      <td>1991-12-14</td>\n",
       "      <td>Monsters And Angels</td>\n",
       "      <td>Voice Of The Beehive</td>\n",
       "    </tr>\n",
       "  </tbody>\n",
       "</table>\n",
       "</div>"
      ],
      "text/plain": [
       "        chart_position chart_date                 song             performer\n",
       "174192              97 1991-12-14  Monsters And Angels  Voice Of The Beehive"
      ]
     },
     "execution_count": 69,
     "metadata": {},
     "output_type": "execute_result"
    }
   ],
   "source": [
    "# It seems like the first 4 dates in ['1991-11-16', '1991-11-23', '1991-11-30', '1991-12-07', '1991-12-14'] is missing \n",
    "# the entry at the same position except for the '1991-12-14'\n",
    "missing_pos_last = [i for i in [*range(1,100)] if i not in\n",
    "            [*df[df['chart_date'] == '1991-12-14']['chart_position'].values]]\n",
    "previous_missing_pos_last = missing_pos_last[0] - 1\n",
    "df.query(\"chart_date == '1991-12-14' & chart_position == @previous_missing_pos_last\")"
   ]
  },
  {
   "cell_type": "markdown",
   "metadata": {},
   "source": [
    "Adding missing values"
   ]
  },
  {
   "cell_type": "code",
   "execution_count": 70,
   "metadata": {},
   "outputs": [],
   "source": [
    "from datetime import datetime\n",
    "df.loc[173797.5] = [99,'1991-11-16','Into The Great Wide Open', 'Tom Petty And The Heartbreakers']\n",
    "df.loc[173895.5] = [99,'1991-11-23','Ain\\'t No Future In Yo\\' Fronting', 'M.C. Breed & D.F.C.']\n",
    "df.loc[174093.5] = [99,'1991-11-30','Stand By My Woman', 'Lenny Kravitz']\n",
    "df.loc[173994.5] = [99,'1991-12-07','Do You Feel Like I Feel?', 'Belinda Carlisle']\n",
    "df.loc[174192.5] = [98,'1991-12-14','Into The Great Wide Open', 'Tom Petty And The Heartbreakers']\n",
    "df['chart_date'] = pd.to_datetime(df['chart_date'], format='%Y-%m-%d')\n",
    "df = df.sort_index().reset_index(drop=True)\n"
   ]
  },
  {
   "cell_type": "code",
   "execution_count": 71,
   "metadata": {},
   "outputs": [
    {
     "data": {
      "text/html": [
       "<div>\n",
       "<style scoped>\n",
       "    .dataframe tbody tr th:only-of-type {\n",
       "        vertical-align: middle;\n",
       "    }\n",
       "\n",
       "    .dataframe tbody tr th {\n",
       "        vertical-align: top;\n",
       "    }\n",
       "\n",
       "    .dataframe thead th {\n",
       "        text-align: right;\n",
       "    }\n",
       "</style>\n",
       "<table border=\"1\" class=\"dataframe\">\n",
       "  <thead>\n",
       "    <tr style=\"text-align: right;\">\n",
       "      <th></th>\n",
       "      <th>chart_position</th>\n",
       "      <th>chart_date</th>\n",
       "      <th>song</th>\n",
       "      <th>performer</th>\n",
       "    </tr>\n",
       "  </thead>\n",
       "  <tbody>\n",
       "    <tr>\n",
       "      <th>173700</th>\n",
       "      <td>1</td>\n",
       "      <td>1991-11-16</td>\n",
       "      <td>Cream</td>\n",
       "      <td>Prince And The N.P.G.</td>\n",
       "    </tr>\n",
       "    <tr>\n",
       "      <th>173701</th>\n",
       "      <td>2</td>\n",
       "      <td>1991-11-16</td>\n",
       "      <td>Can't Stop This Thing We Started</td>\n",
       "      <td>Bryan Adams</td>\n",
       "    </tr>\n",
       "    <tr>\n",
       "      <th>173702</th>\n",
       "      <td>3</td>\n",
       "      <td>1991-11-16</td>\n",
       "      <td>When A Man Loves A Woman</td>\n",
       "      <td>Michael Bolton</td>\n",
       "    </tr>\n",
       "    <tr>\n",
       "      <th>173703</th>\n",
       "      <td>4</td>\n",
       "      <td>1991-11-16</td>\n",
       "      <td>It's So Hard To Say Goodbye To Yesterday</td>\n",
       "      <td>Boyz II Men</td>\n",
       "    </tr>\n",
       "    <tr>\n",
       "      <th>173704</th>\n",
       "      <td>5</td>\n",
       "      <td>1991-11-16</td>\n",
       "      <td>Set Adrift On Memory Bliss</td>\n",
       "      <td>P.M. Dawn</td>\n",
       "    </tr>\n",
       "    <tr>\n",
       "      <th>...</th>\n",
       "      <td>...</td>\n",
       "      <td>...</td>\n",
       "      <td>...</td>\n",
       "      <td>...</td>\n",
       "    </tr>\n",
       "    <tr>\n",
       "      <th>173795</th>\n",
       "      <td>96</td>\n",
       "      <td>1991-11-16</td>\n",
       "      <td>Love Me All Up</td>\n",
       "      <td>Stacy Earl</td>\n",
       "    </tr>\n",
       "    <tr>\n",
       "      <th>173796</th>\n",
       "      <td>97</td>\n",
       "      <td>1991-11-16</td>\n",
       "      <td>Love. . .Thy Will Be Done</td>\n",
       "      <td>Martika</td>\n",
       "    </tr>\n",
       "    <tr>\n",
       "      <th>173797</th>\n",
       "      <td>98</td>\n",
       "      <td>1991-11-16</td>\n",
       "      <td>Try A Little Tenderness</td>\n",
       "      <td>The Commitments</td>\n",
       "    </tr>\n",
       "    <tr>\n",
       "      <th>173798</th>\n",
       "      <td>99</td>\n",
       "      <td>1991-11-16</td>\n",
       "      <td>Into The Great Wide Open</td>\n",
       "      <td>Tom Petty And The Heartbreakers</td>\n",
       "    </tr>\n",
       "    <tr>\n",
       "      <th>173799</th>\n",
       "      <td>100</td>\n",
       "      <td>1991-11-16</td>\n",
       "      <td>Forever More</td>\n",
       "      <td>Stevie B</td>\n",
       "    </tr>\n",
       "  </tbody>\n",
       "</table>\n",
       "<p>100 rows × 4 columns</p>\n",
       "</div>"
      ],
      "text/plain": [
       "        chart_position chart_date                                      song  \\\n",
       "173700               1 1991-11-16                                     Cream   \n",
       "173701               2 1991-11-16          Can't Stop This Thing We Started   \n",
       "173702               3 1991-11-16                  When A Man Loves A Woman   \n",
       "173703               4 1991-11-16  It's So Hard To Say Goodbye To Yesterday   \n",
       "173704               5 1991-11-16                Set Adrift On Memory Bliss   \n",
       "...                ...        ...                                       ...   \n",
       "173795              96 1991-11-16                            Love Me All Up   \n",
       "173796              97 1991-11-16                 Love. . .Thy Will Be Done   \n",
       "173797              98 1991-11-16                   Try A Little Tenderness   \n",
       "173798              99 1991-11-16                  Into The Great Wide Open   \n",
       "173799             100 1991-11-16                              Forever More   \n",
       "\n",
       "                              performer  \n",
       "173700            Prince And The N.P.G.  \n",
       "173701                      Bryan Adams  \n",
       "173702                   Michael Bolton  \n",
       "173703                      Boyz II Men  \n",
       "173704                        P.M. Dawn  \n",
       "...                                 ...  \n",
       "173795                       Stacy Earl  \n",
       "173796                          Martika  \n",
       "173797                  The Commitments  \n",
       "173798  Tom Petty And The Heartbreakers  \n",
       "173799                         Stevie B  \n",
       "\n",
       "[100 rows x 4 columns]"
      ]
     },
     "execution_count": 71,
     "metadata": {},
     "output_type": "execute_result"
    }
   ],
   "source": [
    "# Recheck\n",
    "df[df['chart_date'] == '1991-11-16']"
   ]
  },
  {
   "cell_type": "code",
   "execution_count": 72,
   "metadata": {},
   "outputs": [
    {
     "data": {
      "text/plain": [
       "chart_date\n",
       "2023-01-07    200\n",
       "Name: count, dtype: int64"
      ]
     },
     "execution_count": 72,
     "metadata": {},
     "output_type": "execute_result"
    }
   ],
   "source": [
    "df['chart_date'].value_counts()[df['chart_date'].value_counts() == 200]"
   ]
  },
  {
   "cell_type": "code",
   "execution_count": 73,
   "metadata": {},
   "outputs": [
    {
     "data": {
      "text/html": [
       "<div>\n",
       "<style scoped>\n",
       "    .dataframe tbody tr th:only-of-type {\n",
       "        vertical-align: middle;\n",
       "    }\n",
       "\n",
       "    .dataframe tbody tr th {\n",
       "        vertical-align: top;\n",
       "    }\n",
       "\n",
       "    .dataframe thead th {\n",
       "        text-align: right;\n",
       "    }\n",
       "</style>\n",
       "<table border=\"1\" class=\"dataframe\">\n",
       "  <thead>\n",
       "    <tr style=\"text-align: right;\">\n",
       "      <th></th>\n",
       "      <th>chart_position</th>\n",
       "      <th>chart_date</th>\n",
       "      <th>song</th>\n",
       "      <th>performer</th>\n",
       "    </tr>\n",
       "  </thead>\n",
       "  <tbody>\n",
       "    <tr>\n",
       "      <th>336200</th>\n",
       "      <td>1</td>\n",
       "      <td>2023-01-07</td>\n",
       "      <td>All I Want For Christmas Is You</td>\n",
       "      <td>Mariah Carey</td>\n",
       "    </tr>\n",
       "    <tr>\n",
       "      <th>336201</th>\n",
       "      <td>1</td>\n",
       "      <td>2023-01-07</td>\n",
       "      <td>All I Want For Christmas Is You</td>\n",
       "      <td>Mariah Carey</td>\n",
       "    </tr>\n",
       "    <tr>\n",
       "      <th>336202</th>\n",
       "      <td>2</td>\n",
       "      <td>2023-01-07</td>\n",
       "      <td>Rockin' Around The Christmas Tree</td>\n",
       "      <td>Brenda Lee</td>\n",
       "    </tr>\n",
       "    <tr>\n",
       "      <th>336203</th>\n",
       "      <td>2</td>\n",
       "      <td>2023-01-07</td>\n",
       "      <td>Rockin' Around The Christmas Tree</td>\n",
       "      <td>Brenda Lee</td>\n",
       "    </tr>\n",
       "    <tr>\n",
       "      <th>336204</th>\n",
       "      <td>3</td>\n",
       "      <td>2023-01-07</td>\n",
       "      <td>Jingle Bell Rock</td>\n",
       "      <td>Bobby Helms</td>\n",
       "    </tr>\n",
       "    <tr>\n",
       "      <th>...</th>\n",
       "      <td>...</td>\n",
       "      <td>...</td>\n",
       "      <td>...</td>\n",
       "      <td>...</td>\n",
       "    </tr>\n",
       "    <tr>\n",
       "      <th>336395</th>\n",
       "      <td>98</td>\n",
       "      <td>2023-01-07</td>\n",
       "      <td>Forget Me</td>\n",
       "      <td>Lewis Capaldi</td>\n",
       "    </tr>\n",
       "    <tr>\n",
       "      <th>336396</th>\n",
       "      <td>99</td>\n",
       "      <td>2023-01-07</td>\n",
       "      <td>La Jumpa</td>\n",
       "      <td>Arcangel &amp; Bad Bunny</td>\n",
       "    </tr>\n",
       "    <tr>\n",
       "      <th>336397</th>\n",
       "      <td>99</td>\n",
       "      <td>2023-01-07</td>\n",
       "      <td>La Jumpa</td>\n",
       "      <td>Arcangel &amp; Bad Bunny</td>\n",
       "    </tr>\n",
       "    <tr>\n",
       "      <th>336398</th>\n",
       "      <td>100</td>\n",
       "      <td>2023-01-07</td>\n",
       "      <td>Gone Girl</td>\n",
       "      <td>SZA</td>\n",
       "    </tr>\n",
       "    <tr>\n",
       "      <th>336399</th>\n",
       "      <td>100</td>\n",
       "      <td>2023-01-07</td>\n",
       "      <td>Gone Girl</td>\n",
       "      <td>SZA</td>\n",
       "    </tr>\n",
       "  </tbody>\n",
       "</table>\n",
       "<p>200 rows × 4 columns</p>\n",
       "</div>"
      ],
      "text/plain": [
       "        chart_position chart_date                               song  \\\n",
       "336200               1 2023-01-07    All I Want For Christmas Is You   \n",
       "336201               1 2023-01-07    All I Want For Christmas Is You   \n",
       "336202               2 2023-01-07  Rockin' Around The Christmas Tree   \n",
       "336203               2 2023-01-07  Rockin' Around The Christmas Tree   \n",
       "336204               3 2023-01-07                   Jingle Bell Rock   \n",
       "...                ...        ...                                ...   \n",
       "336395              98 2023-01-07                          Forget Me   \n",
       "336396              99 2023-01-07                           La Jumpa   \n",
       "336397              99 2023-01-07                           La Jumpa   \n",
       "336398             100 2023-01-07                          Gone Girl   \n",
       "336399             100 2023-01-07                          Gone Girl   \n",
       "\n",
       "                   performer  \n",
       "336200          Mariah Carey  \n",
       "336201          Mariah Carey  \n",
       "336202            Brenda Lee  \n",
       "336203            Brenda Lee  \n",
       "336204           Bobby Helms  \n",
       "...                      ...  \n",
       "336395         Lewis Capaldi  \n",
       "336396  Arcangel & Bad Bunny  \n",
       "336397  Arcangel & Bad Bunny  \n",
       "336398                   SZA  \n",
       "336399                   SZA  \n",
       "\n",
       "[200 rows x 4 columns]"
      ]
     },
     "execution_count": 73,
     "metadata": {},
     "output_type": "execute_result"
    }
   ],
   "source": [
    "df[df['chart_date'] == '2023-01-07']"
   ]
  },
  {
   "cell_type": "markdown",
   "metadata": {},
   "source": [
    "The week of 2023-01-07 is repeated, that's why there are 200 entries in this week so we'll eliminate the even indices."
   ]
  },
  {
   "cell_type": "code",
   "execution_count": 74,
   "metadata": {},
   "outputs": [],
   "source": [
    "for i in range(336200,336399):\n",
    "    if i % 2 == 0:\n",
    "        df.drop(i, inplace=True)"
   ]
  },
  {
   "cell_type": "code",
   "execution_count": 75,
   "metadata": {},
   "outputs": [],
   "source": [
    "df = df.sort_index().reset_index(drop=True)"
   ]
  },
  {
   "cell_type": "code",
   "execution_count": 76,
   "metadata": {},
   "outputs": [
    {
     "data": {
      "text/html": [
       "<div>\n",
       "<style scoped>\n",
       "    .dataframe tbody tr th:only-of-type {\n",
       "        vertical-align: middle;\n",
       "    }\n",
       "\n",
       "    .dataframe tbody tr th {\n",
       "        vertical-align: top;\n",
       "    }\n",
       "\n",
       "    .dataframe thead th {\n",
       "        text-align: right;\n",
       "    }\n",
       "</style>\n",
       "<table border=\"1\" class=\"dataframe\">\n",
       "  <thead>\n",
       "    <tr style=\"text-align: right;\">\n",
       "      <th></th>\n",
       "      <th>chart_position</th>\n",
       "      <th>chart_date</th>\n",
       "      <th>song</th>\n",
       "      <th>performer</th>\n",
       "    </tr>\n",
       "  </thead>\n",
       "  <tbody>\n",
       "    <tr>\n",
       "      <th>0</th>\n",
       "      <td>1</td>\n",
       "      <td>1958-08-02</td>\n",
       "      <td>Poor Little Fool</td>\n",
       "      <td>Ricky Nelson</td>\n",
       "    </tr>\n",
       "    <tr>\n",
       "      <th>1</th>\n",
       "      <td>2</td>\n",
       "      <td>1958-08-02</td>\n",
       "      <td>Patricia</td>\n",
       "      <td>Perez Prado And His Orchestra</td>\n",
       "    </tr>\n",
       "    <tr>\n",
       "      <th>2</th>\n",
       "      <td>3</td>\n",
       "      <td>1958-08-02</td>\n",
       "      <td>Splish Splash</td>\n",
       "      <td>Bobby Darin</td>\n",
       "    </tr>\n",
       "    <tr>\n",
       "      <th>3</th>\n",
       "      <td>4</td>\n",
       "      <td>1958-08-02</td>\n",
       "      <td>Hard Headed Woman</td>\n",
       "      <td>Elvis Presley With The Jordanaires</td>\n",
       "    </tr>\n",
       "    <tr>\n",
       "      <th>4</th>\n",
       "      <td>5</td>\n",
       "      <td>1958-08-02</td>\n",
       "      <td>When</td>\n",
       "      <td>Kalin Twins</td>\n",
       "    </tr>\n",
       "    <tr>\n",
       "      <th>...</th>\n",
       "      <td>...</td>\n",
       "      <td>...</td>\n",
       "      <td>...</td>\n",
       "      <td>...</td>\n",
       "    </tr>\n",
       "    <tr>\n",
       "      <th>338295</th>\n",
       "      <td>96</td>\n",
       "      <td>2023-05-27</td>\n",
       "      <td>Forever</td>\n",
       "      <td>Lil Baby Featuring Fridayy</td>\n",
       "    </tr>\n",
       "    <tr>\n",
       "      <th>338296</th>\n",
       "      <td>97</td>\n",
       "      <td>2023-05-27</td>\n",
       "      <td>Private Landing</td>\n",
       "      <td>Don Toliver Featuring Justin Bieber &amp; Future</td>\n",
       "    </tr>\n",
       "    <tr>\n",
       "      <th>338297</th>\n",
       "      <td>98</td>\n",
       "      <td>2023-05-27</td>\n",
       "      <td>I Heard</td>\n",
       "      <td>YoungBoy Never Broke Again</td>\n",
       "    </tr>\n",
       "    <tr>\n",
       "      <th>338298</th>\n",
       "      <td>99</td>\n",
       "      <td>2023-05-27</td>\n",
       "      <td>Sunrise</td>\n",
       "      <td>Morgan Wallen</td>\n",
       "    </tr>\n",
       "    <tr>\n",
       "      <th>338299</th>\n",
       "      <td>100</td>\n",
       "      <td>2023-05-27</td>\n",
       "      <td>Happy</td>\n",
       "      <td>NF</td>\n",
       "    </tr>\n",
       "  </tbody>\n",
       "</table>\n",
       "<p>338300 rows × 4 columns</p>\n",
       "</div>"
      ],
      "text/plain": [
       "        chart_position chart_date               song  \\\n",
       "0                    1 1958-08-02   Poor Little Fool   \n",
       "1                    2 1958-08-02           Patricia   \n",
       "2                    3 1958-08-02      Splish Splash   \n",
       "3                    4 1958-08-02  Hard Headed Woman   \n",
       "4                    5 1958-08-02               When   \n",
       "...                ...        ...                ...   \n",
       "338295              96 2023-05-27            Forever   \n",
       "338296              97 2023-05-27    Private Landing   \n",
       "338297              98 2023-05-27            I Heard   \n",
       "338298              99 2023-05-27            Sunrise   \n",
       "338299             100 2023-05-27              Happy   \n",
       "\n",
       "                                           performer  \n",
       "0                                       Ricky Nelson  \n",
       "1                      Perez Prado And His Orchestra  \n",
       "2                                        Bobby Darin  \n",
       "3                 Elvis Presley With The Jordanaires  \n",
       "4                                        Kalin Twins  \n",
       "...                                              ...  \n",
       "338295                    Lil Baby Featuring Fridayy  \n",
       "338296  Don Toliver Featuring Justin Bieber & Future  \n",
       "338297                    YoungBoy Never Broke Again  \n",
       "338298                                 Morgan Wallen  \n",
       "338299                                            NF  \n",
       "\n",
       "[338300 rows x 4 columns]"
      ]
     },
     "execution_count": 76,
     "metadata": {},
     "output_type": "execute_result"
    }
   ],
   "source": [
    "df"
   ]
  },
  {
   "cell_type": "markdown",
   "metadata": {},
   "source": [
    "### Convert songs into audio features from Spotify api"
   ]
  },
  {
   "cell_type": "markdown",
   "metadata": {},
   "source": [
    "Todo:\n",
    "* Find ID of songs and add it to the DF\n",
    "* Using ID, find audio features of a song\n",
    "* Add both ID and audio features to the DF"
   ]
  },
  {
   "cell_type": "markdown",
   "metadata": {},
   "source": [
    "### Finding song ID"
   ]
  },
  {
   "cell_type": "markdown",
   "metadata": {},
   "source": [
    "Since there are 338300 rows in this DF, finding ID for each row is computationally ineffective since there are a number of duplicates. So the goal here is to just find the unique songs' IDs only.\n",
    "Assumption: Any song that shares the same name is the same song."
   ]
  },
  {
   "cell_type": "code",
   "execution_count": 77,
   "metadata": {},
   "outputs": [
    {
     "data": {
      "text/plain": [
       "25372"
      ]
     },
     "execution_count": 77,
     "metadata": {},
     "output_type": "execute_result"
    }
   ],
   "source": [
    "unique_songs = df.song.unique()\n",
    "len(unique_songs)"
   ]
  },
  {
   "cell_type": "markdown",
   "metadata": {},
   "source": [
    "Even with unique values, there are *25372* distinct entries that we'll have to find the ID for. Since we are relying on the API to get our information, there will be inherent uncertainties and/or errors (e.g. lost connection, API limit is reached, null result). To ensure the data collecting process will go on smoothly, we'll have to split this array into smaller chunks. If an error occurs or if you want to pause the process, you can terminate it and only have to restart at the last completed chunk."
   ]
  },
  {
   "cell_type": "code",
   "execution_count": 78,
   "metadata": {},
   "outputs": [
    {
     "data": {
      "text/plain": [
       "254"
      ]
     },
     "execution_count": 78,
     "metadata": {},
     "output_type": "execute_result"
    }
   ],
   "source": [
    "splitted_unique_songs = np.array_split(unique_songs, 100)\n",
    "len(splitted_unique_songs[0])"
   ]
  },
  {
   "cell_type": "markdown",
   "metadata": {},
   "source": [
    "There are 254 songs in each array with the exception of the last array. There are 100 arrays in total"
   ]
  },
  {
   "cell_type": "code",
   "execution_count": 79,
   "metadata": {},
   "outputs": [
    {
     "data": {
      "text/html": [
       "<div>\n",
       "<style scoped>\n",
       "    .dataframe tbody tr th:only-of-type {\n",
       "        vertical-align: middle;\n",
       "    }\n",
       "\n",
       "    .dataframe tbody tr th {\n",
       "        vertical-align: top;\n",
       "    }\n",
       "\n",
       "    .dataframe thead th {\n",
       "        text-align: right;\n",
       "    }\n",
       "</style>\n",
       "<table border=\"1\" class=\"dataframe\">\n",
       "  <thead>\n",
       "    <tr style=\"text-align: right;\">\n",
       "      <th></th>\n",
       "      <th>chart_position</th>\n",
       "      <th>chart_date</th>\n",
       "      <th>song</th>\n",
       "      <th>performer</th>\n",
       "      <th>sp_id</th>\n",
       "    </tr>\n",
       "  </thead>\n",
       "  <tbody>\n",
       "    <tr>\n",
       "      <th>0</th>\n",
       "      <td>1</td>\n",
       "      <td>1958-08-02</td>\n",
       "      <td>Poor Little Fool</td>\n",
       "      <td>Ricky Nelson</td>\n",
       "      <td></td>\n",
       "    </tr>\n",
       "    <tr>\n",
       "      <th>1</th>\n",
       "      <td>2</td>\n",
       "      <td>1958-08-02</td>\n",
       "      <td>Patricia</td>\n",
       "      <td>Perez Prado And His Orchestra</td>\n",
       "      <td></td>\n",
       "    </tr>\n",
       "    <tr>\n",
       "      <th>2</th>\n",
       "      <td>3</td>\n",
       "      <td>1958-08-02</td>\n",
       "      <td>Splish Splash</td>\n",
       "      <td>Bobby Darin</td>\n",
       "      <td></td>\n",
       "    </tr>\n",
       "    <tr>\n",
       "      <th>3</th>\n",
       "      <td>4</td>\n",
       "      <td>1958-08-02</td>\n",
       "      <td>Hard Headed Woman</td>\n",
       "      <td>Elvis Presley With The Jordanaires</td>\n",
       "      <td></td>\n",
       "    </tr>\n",
       "    <tr>\n",
       "      <th>4</th>\n",
       "      <td>5</td>\n",
       "      <td>1958-08-02</td>\n",
       "      <td>When</td>\n",
       "      <td>Kalin Twins</td>\n",
       "      <td></td>\n",
       "    </tr>\n",
       "    <tr>\n",
       "      <th>...</th>\n",
       "      <td>...</td>\n",
       "      <td>...</td>\n",
       "      <td>...</td>\n",
       "      <td>...</td>\n",
       "      <td>...</td>\n",
       "    </tr>\n",
       "    <tr>\n",
       "      <th>338295</th>\n",
       "      <td>96</td>\n",
       "      <td>2023-05-27</td>\n",
       "      <td>Forever</td>\n",
       "      <td>Lil Baby Featuring Fridayy</td>\n",
       "      <td></td>\n",
       "    </tr>\n",
       "    <tr>\n",
       "      <th>338296</th>\n",
       "      <td>97</td>\n",
       "      <td>2023-05-27</td>\n",
       "      <td>Private Landing</td>\n",
       "      <td>Don Toliver Featuring Justin Bieber &amp; Future</td>\n",
       "      <td></td>\n",
       "    </tr>\n",
       "    <tr>\n",
       "      <th>338297</th>\n",
       "      <td>98</td>\n",
       "      <td>2023-05-27</td>\n",
       "      <td>I Heard</td>\n",
       "      <td>YoungBoy Never Broke Again</td>\n",
       "      <td></td>\n",
       "    </tr>\n",
       "    <tr>\n",
       "      <th>338298</th>\n",
       "      <td>99</td>\n",
       "      <td>2023-05-27</td>\n",
       "      <td>Sunrise</td>\n",
       "      <td>Morgan Wallen</td>\n",
       "      <td></td>\n",
       "    </tr>\n",
       "    <tr>\n",
       "      <th>338299</th>\n",
       "      <td>100</td>\n",
       "      <td>2023-05-27</td>\n",
       "      <td>Happy</td>\n",
       "      <td>NF</td>\n",
       "      <td></td>\n",
       "    </tr>\n",
       "  </tbody>\n",
       "</table>\n",
       "<p>338300 rows × 5 columns</p>\n",
       "</div>"
      ],
      "text/plain": [
       "        chart_position chart_date               song  \\\n",
       "0                    1 1958-08-02   Poor Little Fool   \n",
       "1                    2 1958-08-02           Patricia   \n",
       "2                    3 1958-08-02      Splish Splash   \n",
       "3                    4 1958-08-02  Hard Headed Woman   \n",
       "4                    5 1958-08-02               When   \n",
       "...                ...        ...                ...   \n",
       "338295              96 2023-05-27            Forever   \n",
       "338296              97 2023-05-27    Private Landing   \n",
       "338297              98 2023-05-27            I Heard   \n",
       "338298              99 2023-05-27            Sunrise   \n",
       "338299             100 2023-05-27              Happy   \n",
       "\n",
       "                                           performer sp_id  \n",
       "0                                       Ricky Nelson        \n",
       "1                      Perez Prado And His Orchestra        \n",
       "2                                        Bobby Darin        \n",
       "3                 Elvis Presley With The Jordanaires        \n",
       "4                                        Kalin Twins        \n",
       "...                                              ...   ...  \n",
       "338295                    Lil Baby Featuring Fridayy        \n",
       "338296  Don Toliver Featuring Justin Bieber & Future        \n",
       "338297                    YoungBoy Never Broke Again        \n",
       "338298                                 Morgan Wallen        \n",
       "338299                                            NF        \n",
       "\n",
       "[338300 rows x 5 columns]"
      ]
     },
     "execution_count": 79,
     "metadata": {},
     "output_type": "execute_result"
    }
   ],
   "source": [
    "df['sp_id'] = ''\n",
    "df"
   ]
  },
  {
   "cell_type": "markdown",
   "metadata": {},
   "source": [
    "### Getting IDs from Spotify API"
   ]
  },
  {
   "cell_type": "code",
   "execution_count": 80,
   "metadata": {},
   "outputs": [
    {
     "name": "stdout",
     "output_type": "stream",
     "text": [
      "0 song in 99 added Forget Me\n",
      "1 song in 99 added What He Didn't Do\n",
      "2 song in 99 added Poland\n",
      "3 song in 99 added Heyy\n",
      "4 song in 99 added To The Bone\n",
      "5 song in 99 added Lokera\n",
      "6 song in 99 added California Breeze\n",
      "7 song in 99 added Real Spill\n",
      "8 song in 99 added Never Hating\n",
      "9 song in 99 added Stand On It\n",
      "10 song in 99 added Not Finished\n",
      "11 song in 99 added Perfect Timing\n",
      "12 song in 99 added From Now On\n",
      "13 song in 99 added Waterfall Flow\n",
      "14 song in 99 added Victoria's Secret\n",
      "15 song in 99 added Double Down\n",
      "16 song in 99 added Cost To Be Alive\n",
      "17 song in 99 added Shiest Talk\n",
      "18 song in 99 added Edging\n",
      "19 song in 99 added Top Priority\n",
      "20 song in 99 added FR\n",
      "21 song in 99 added No Fly Zone\n",
      "22 song in 99 added Stop Playin\n",
      "23 song in 99 added Just Wanna Rock\n",
      "24 song in 99 added Anti-Hero\n",
      "25 song in 99 added Lavender Haze\n",
      "26 song in 99 added Maroon\n",
      "27 song in 99 added Snow On The Beach\n",
      "28 song in 99 added Bejeweled\n",
      "29 song in 99 added Question...?\n",
      "30 song in 99 added You're On Your Own, Kid\n",
      "31 song in 99 added Vigilante Shit\n",
      "32 song in 99 added Mastermind\n",
      "33 song in 99 added Labyrinth\n",
      "34 song in 99 added Would've, Could've, Should've\n",
      "35 song in 99 added Bigger Than The Whole Sky\n",
      "36 song in 99 added The Great War\n",
      "37 song in 99 added High Infidelity\n",
      "38 song in 99 added Glitch\n",
      "39 song in 99 added Dear Reader\n",
      "40 song in 99 added Monotonia\n",
      "41 song in 99 added Shirt\n",
      "42 song in 99 added The Astronaut\n",
      "43 song in 99 added Ain't Safe\n",
      "44 song in 99 added 300 Blackout\n",
      "45 song in 99 added Rich Flex\n",
      "46 song in 99 added Major Distribution\n",
      "47 song in 99 added On BS\n",
      "48 song in 99 added Spin Bout U\n",
      "49 song in 99 added Pussy & Millions\n",
      "50 song in 99 added Privileged Rappers\n",
      "51 song in 99 added Circo Loco\n",
      "52 song in 99 added BackOutsideBoyz\n",
      "53 song in 99 added Hours In Silence\n",
      "54 song in 99 added Broke Boys\n",
      "55 song in 99 added Treacherous Twins\n",
      "56 song in 99 added Middle Of The Ocean\n",
      "57 song in 99 added Jumbotron Shit Poppin\n",
      "58 song in 99 added More M’s\n",
      "59 song in 99 added I Guess It's Fuck Me\n",
      "60 song in 99 added 3AM On Glenwood\n",
      "61 song in 99 added My Mind & Me\n",
      "62 song in 99 added Heart Like A Truck\n",
      "63 song in 99 added Going, Going, Gone\n",
      "64 song in 99 added Down In Atlanta\n",
      "65 song in 99 added Got It Right\n",
      "66 song in 99 added Someday At Christmas\n",
      "67 song in 99 added Superhero (Heroes & Villains)\n",
      "68 song in 99 added Too Many Nights\n",
      "69 song in 99 added Niagara Falls (Foot Or 2)\n",
      "70 song in 99 added Raindrops (Insane)\n",
      "71 song in 99 added One Thing At A Time\n",
      "72 song in 99 added Trance\n",
      "73 song in 99 added Metro Spider\n",
      "74 song in 99 added On Time\n"
     ]
    },
    {
     "ename": "KeyboardInterrupt",
     "evalue": "",
     "output_type": "error",
     "traceback": [
      "\u001b[0;31m---------------------------------------------------------------------------\u001b[0m",
      "\u001b[0;31mKeyboardInterrupt\u001b[0m                         Traceback (most recent call last)",
      "Cell \u001b[0;32mIn[80], line 34\u001b[0m\n\u001b[1;32m     29\u001b[0m headers \u001b[39m=\u001b[39m {\n\u001b[1;32m     30\u001b[0m     \u001b[39m'\u001b[39m\u001b[39mAuthorization\u001b[39m\u001b[39m'\u001b[39m: \u001b[39mf\u001b[39m\u001b[39m'\u001b[39m\u001b[39mBearer \u001b[39m\u001b[39m{\u001b[39;00maccess_token\u001b[39m}\u001b[39;00m\u001b[39m'\u001b[39m\n\u001b[1;32m     31\u001b[0m }\n\u001b[1;32m     33\u001b[0m \u001b[39m# Make the GET request to the Spotify API\u001b[39;00m\n\u001b[0;32m---> 34\u001b[0m response \u001b[39m=\u001b[39m requests\u001b[39m.\u001b[39;49mget(search_url, params\u001b[39m=\u001b[39;49mquery_params, headers\u001b[39m=\u001b[39;49mheaders)\n\u001b[1;32m     35\u001b[0m result \u001b[39m=\u001b[39m json\u001b[39m.\u001b[39mloads(response\u001b[39m.\u001b[39mcontent)\n\u001b[1;32m     36\u001b[0m sp_id \u001b[39m=\u001b[39m result[\u001b[39m'\u001b[39m\u001b[39mtracks\u001b[39m\u001b[39m'\u001b[39m][\u001b[39m'\u001b[39m\u001b[39mitems\u001b[39m\u001b[39m'\u001b[39m][\u001b[39m0\u001b[39m][\u001b[39m'\u001b[39m\u001b[39mid\u001b[39m\u001b[39m'\u001b[39m]\n",
      "File \u001b[0;32m~/.pyenv/versions/3.11.4/lib/python3.11/site-packages/requests/api.py:73\u001b[0m, in \u001b[0;36mget\u001b[0;34m(url, params, **kwargs)\u001b[0m\n\u001b[1;32m     62\u001b[0m \u001b[39mdef\u001b[39;00m \u001b[39mget\u001b[39m(url, params\u001b[39m=\u001b[39m\u001b[39mNone\u001b[39;00m, \u001b[39m*\u001b[39m\u001b[39m*\u001b[39mkwargs):\n\u001b[1;32m     63\u001b[0m \u001b[39m    \u001b[39m\u001b[39mr\u001b[39m\u001b[39m\"\"\"Sends a GET request.\u001b[39;00m\n\u001b[1;32m     64\u001b[0m \n\u001b[1;32m     65\u001b[0m \u001b[39m    :param url: URL for the new :class:`Request` object.\u001b[39;00m\n\u001b[0;32m   (...)\u001b[0m\n\u001b[1;32m     70\u001b[0m \u001b[39m    :rtype: requests.Response\u001b[39;00m\n\u001b[1;32m     71\u001b[0m \u001b[39m    \"\"\"\u001b[39;00m\n\u001b[0;32m---> 73\u001b[0m     \u001b[39mreturn\u001b[39;00m request(\u001b[39m\"\u001b[39;49m\u001b[39mget\u001b[39;49m\u001b[39m\"\u001b[39;49m, url, params\u001b[39m=\u001b[39;49mparams, \u001b[39m*\u001b[39;49m\u001b[39m*\u001b[39;49mkwargs)\n",
      "File \u001b[0;32m~/.pyenv/versions/3.11.4/lib/python3.11/site-packages/requests/api.py:59\u001b[0m, in \u001b[0;36mrequest\u001b[0;34m(method, url, **kwargs)\u001b[0m\n\u001b[1;32m     55\u001b[0m \u001b[39m# By using the 'with' statement we are sure the session is closed, thus we\u001b[39;00m\n\u001b[1;32m     56\u001b[0m \u001b[39m# avoid leaving sockets open which can trigger a ResourceWarning in some\u001b[39;00m\n\u001b[1;32m     57\u001b[0m \u001b[39m# cases, and look like a memory leak in others.\u001b[39;00m\n\u001b[1;32m     58\u001b[0m \u001b[39mwith\u001b[39;00m sessions\u001b[39m.\u001b[39mSession() \u001b[39mas\u001b[39;00m session:\n\u001b[0;32m---> 59\u001b[0m     \u001b[39mreturn\u001b[39;00m session\u001b[39m.\u001b[39;49mrequest(method\u001b[39m=\u001b[39;49mmethod, url\u001b[39m=\u001b[39;49murl, \u001b[39m*\u001b[39;49m\u001b[39m*\u001b[39;49mkwargs)\n",
      "File \u001b[0;32m~/.pyenv/versions/3.11.4/lib/python3.11/site-packages/requests/sessions.py:589\u001b[0m, in \u001b[0;36mSession.request\u001b[0;34m(self, method, url, params, data, headers, cookies, files, auth, timeout, allow_redirects, proxies, hooks, stream, verify, cert, json)\u001b[0m\n\u001b[1;32m    584\u001b[0m send_kwargs \u001b[39m=\u001b[39m {\n\u001b[1;32m    585\u001b[0m     \u001b[39m\"\u001b[39m\u001b[39mtimeout\u001b[39m\u001b[39m\"\u001b[39m: timeout,\n\u001b[1;32m    586\u001b[0m     \u001b[39m\"\u001b[39m\u001b[39mallow_redirects\u001b[39m\u001b[39m\"\u001b[39m: allow_redirects,\n\u001b[1;32m    587\u001b[0m }\n\u001b[1;32m    588\u001b[0m send_kwargs\u001b[39m.\u001b[39mupdate(settings)\n\u001b[0;32m--> 589\u001b[0m resp \u001b[39m=\u001b[39m \u001b[39mself\u001b[39;49m\u001b[39m.\u001b[39;49msend(prep, \u001b[39m*\u001b[39;49m\u001b[39m*\u001b[39;49msend_kwargs)\n\u001b[1;32m    591\u001b[0m \u001b[39mreturn\u001b[39;00m resp\n",
      "File \u001b[0;32m~/.pyenv/versions/3.11.4/lib/python3.11/site-packages/requests/sessions.py:703\u001b[0m, in \u001b[0;36mSession.send\u001b[0;34m(self, request, **kwargs)\u001b[0m\n\u001b[1;32m    700\u001b[0m start \u001b[39m=\u001b[39m preferred_clock()\n\u001b[1;32m    702\u001b[0m \u001b[39m# Send the request\u001b[39;00m\n\u001b[0;32m--> 703\u001b[0m r \u001b[39m=\u001b[39m adapter\u001b[39m.\u001b[39;49msend(request, \u001b[39m*\u001b[39;49m\u001b[39m*\u001b[39;49mkwargs)\n\u001b[1;32m    705\u001b[0m \u001b[39m# Total elapsed time of the request (approximately)\u001b[39;00m\n\u001b[1;32m    706\u001b[0m elapsed \u001b[39m=\u001b[39m preferred_clock() \u001b[39m-\u001b[39m start\n",
      "File \u001b[0;32m~/.pyenv/versions/3.11.4/lib/python3.11/site-packages/requests/adapters.py:486\u001b[0m, in \u001b[0;36mHTTPAdapter.send\u001b[0;34m(self, request, stream, timeout, verify, cert, proxies)\u001b[0m\n\u001b[1;32m    483\u001b[0m     timeout \u001b[39m=\u001b[39m TimeoutSauce(connect\u001b[39m=\u001b[39mtimeout, read\u001b[39m=\u001b[39mtimeout)\n\u001b[1;32m    485\u001b[0m \u001b[39mtry\u001b[39;00m:\n\u001b[0;32m--> 486\u001b[0m     resp \u001b[39m=\u001b[39m conn\u001b[39m.\u001b[39;49murlopen(\n\u001b[1;32m    487\u001b[0m         method\u001b[39m=\u001b[39;49mrequest\u001b[39m.\u001b[39;49mmethod,\n\u001b[1;32m    488\u001b[0m         url\u001b[39m=\u001b[39;49murl,\n\u001b[1;32m    489\u001b[0m         body\u001b[39m=\u001b[39;49mrequest\u001b[39m.\u001b[39;49mbody,\n\u001b[1;32m    490\u001b[0m         headers\u001b[39m=\u001b[39;49mrequest\u001b[39m.\u001b[39;49mheaders,\n\u001b[1;32m    491\u001b[0m         redirect\u001b[39m=\u001b[39;49m\u001b[39mFalse\u001b[39;49;00m,\n\u001b[1;32m    492\u001b[0m         assert_same_host\u001b[39m=\u001b[39;49m\u001b[39mFalse\u001b[39;49;00m,\n\u001b[1;32m    493\u001b[0m         preload_content\u001b[39m=\u001b[39;49m\u001b[39mFalse\u001b[39;49;00m,\n\u001b[1;32m    494\u001b[0m         decode_content\u001b[39m=\u001b[39;49m\u001b[39mFalse\u001b[39;49;00m,\n\u001b[1;32m    495\u001b[0m         retries\u001b[39m=\u001b[39;49m\u001b[39mself\u001b[39;49m\u001b[39m.\u001b[39;49mmax_retries,\n\u001b[1;32m    496\u001b[0m         timeout\u001b[39m=\u001b[39;49mtimeout,\n\u001b[1;32m    497\u001b[0m         chunked\u001b[39m=\u001b[39;49mchunked,\n\u001b[1;32m    498\u001b[0m     )\n\u001b[1;32m    500\u001b[0m \u001b[39mexcept\u001b[39;00m (ProtocolError, \u001b[39mOSError\u001b[39;00m) \u001b[39mas\u001b[39;00m err:\n\u001b[1;32m    501\u001b[0m     \u001b[39mraise\u001b[39;00m \u001b[39mConnectionError\u001b[39;00m(err, request\u001b[39m=\u001b[39mrequest)\n",
      "File \u001b[0;32m~/.pyenv/versions/3.11.4/lib/python3.11/site-packages/urllib3/connectionpool.py:790\u001b[0m, in \u001b[0;36mHTTPConnectionPool.urlopen\u001b[0;34m(self, method, url, body, headers, retries, redirect, assert_same_host, timeout, pool_timeout, release_conn, chunked, body_pos, preload_content, decode_content, **response_kw)\u001b[0m\n\u001b[1;32m    787\u001b[0m response_conn \u001b[39m=\u001b[39m conn \u001b[39mif\u001b[39;00m \u001b[39mnot\u001b[39;00m release_conn \u001b[39melse\u001b[39;00m \u001b[39mNone\u001b[39;00m\n\u001b[1;32m    789\u001b[0m \u001b[39m# Make the request on the HTTPConnection object\u001b[39;00m\n\u001b[0;32m--> 790\u001b[0m response \u001b[39m=\u001b[39m \u001b[39mself\u001b[39;49m\u001b[39m.\u001b[39;49m_make_request(\n\u001b[1;32m    791\u001b[0m     conn,\n\u001b[1;32m    792\u001b[0m     method,\n\u001b[1;32m    793\u001b[0m     url,\n\u001b[1;32m    794\u001b[0m     timeout\u001b[39m=\u001b[39;49mtimeout_obj,\n\u001b[1;32m    795\u001b[0m     body\u001b[39m=\u001b[39;49mbody,\n\u001b[1;32m    796\u001b[0m     headers\u001b[39m=\u001b[39;49mheaders,\n\u001b[1;32m    797\u001b[0m     chunked\u001b[39m=\u001b[39;49mchunked,\n\u001b[1;32m    798\u001b[0m     retries\u001b[39m=\u001b[39;49mretries,\n\u001b[1;32m    799\u001b[0m     response_conn\u001b[39m=\u001b[39;49mresponse_conn,\n\u001b[1;32m    800\u001b[0m     preload_content\u001b[39m=\u001b[39;49mpreload_content,\n\u001b[1;32m    801\u001b[0m     decode_content\u001b[39m=\u001b[39;49mdecode_content,\n\u001b[1;32m    802\u001b[0m     \u001b[39m*\u001b[39;49m\u001b[39m*\u001b[39;49mresponse_kw,\n\u001b[1;32m    803\u001b[0m )\n\u001b[1;32m    805\u001b[0m \u001b[39m# Everything went great!\u001b[39;00m\n\u001b[1;32m    806\u001b[0m clean_exit \u001b[39m=\u001b[39m \u001b[39mTrue\u001b[39;00m\n",
      "File \u001b[0;32m~/.pyenv/versions/3.11.4/lib/python3.11/site-packages/urllib3/connectionpool.py:536\u001b[0m, in \u001b[0;36mHTTPConnectionPool._make_request\u001b[0;34m(self, conn, method, url, body, headers, retries, timeout, chunked, response_conn, preload_content, decode_content, enforce_content_length)\u001b[0m\n\u001b[1;32m    534\u001b[0m \u001b[39m# Receive the response from the server\u001b[39;00m\n\u001b[1;32m    535\u001b[0m \u001b[39mtry\u001b[39;00m:\n\u001b[0;32m--> 536\u001b[0m     response \u001b[39m=\u001b[39m conn\u001b[39m.\u001b[39;49mgetresponse()\n\u001b[1;32m    537\u001b[0m \u001b[39mexcept\u001b[39;00m (BaseSSLError, \u001b[39mOSError\u001b[39;00m) \u001b[39mas\u001b[39;00m e:\n\u001b[1;32m    538\u001b[0m     \u001b[39mself\u001b[39m\u001b[39m.\u001b[39m_raise_timeout(err\u001b[39m=\u001b[39me, url\u001b[39m=\u001b[39murl, timeout_value\u001b[39m=\u001b[39mread_timeout)\n",
      "File \u001b[0;32m~/.pyenv/versions/3.11.4/lib/python3.11/site-packages/urllib3/connection.py:461\u001b[0m, in \u001b[0;36mHTTPConnection.getresponse\u001b[0;34m(self)\u001b[0m\n\u001b[1;32m    458\u001b[0m \u001b[39mfrom\u001b[39;00m \u001b[39m.\u001b[39;00m\u001b[39mresponse\u001b[39;00m \u001b[39mimport\u001b[39;00m HTTPResponse\n\u001b[1;32m    460\u001b[0m \u001b[39m# Get the response from http.client.HTTPConnection\u001b[39;00m\n\u001b[0;32m--> 461\u001b[0m httplib_response \u001b[39m=\u001b[39m \u001b[39msuper\u001b[39;49m()\u001b[39m.\u001b[39;49mgetresponse()\n\u001b[1;32m    463\u001b[0m \u001b[39mtry\u001b[39;00m:\n\u001b[1;32m    464\u001b[0m     assert_header_parsing(httplib_response\u001b[39m.\u001b[39mmsg)\n",
      "File \u001b[0;32m~/.pyenv/versions/3.11.4/lib/python3.11/http/client.py:1378\u001b[0m, in \u001b[0;36mHTTPConnection.getresponse\u001b[0;34m(self)\u001b[0m\n\u001b[1;32m   1376\u001b[0m \u001b[39mtry\u001b[39;00m:\n\u001b[1;32m   1377\u001b[0m     \u001b[39mtry\u001b[39;00m:\n\u001b[0;32m-> 1378\u001b[0m         response\u001b[39m.\u001b[39;49mbegin()\n\u001b[1;32m   1379\u001b[0m     \u001b[39mexcept\u001b[39;00m \u001b[39mConnectionError\u001b[39;00m:\n\u001b[1;32m   1380\u001b[0m         \u001b[39mself\u001b[39m\u001b[39m.\u001b[39mclose()\n",
      "File \u001b[0;32m~/.pyenv/versions/3.11.4/lib/python3.11/http/client.py:318\u001b[0m, in \u001b[0;36mHTTPResponse.begin\u001b[0;34m(self)\u001b[0m\n\u001b[1;32m    316\u001b[0m \u001b[39m# read until we get a non-100 response\u001b[39;00m\n\u001b[1;32m    317\u001b[0m \u001b[39mwhile\u001b[39;00m \u001b[39mTrue\u001b[39;00m:\n\u001b[0;32m--> 318\u001b[0m     version, status, reason \u001b[39m=\u001b[39m \u001b[39mself\u001b[39;49m\u001b[39m.\u001b[39;49m_read_status()\n\u001b[1;32m    319\u001b[0m     \u001b[39mif\u001b[39;00m status \u001b[39m!=\u001b[39m CONTINUE:\n\u001b[1;32m    320\u001b[0m         \u001b[39mbreak\u001b[39;00m\n",
      "File \u001b[0;32m~/.pyenv/versions/3.11.4/lib/python3.11/http/client.py:279\u001b[0m, in \u001b[0;36mHTTPResponse._read_status\u001b[0;34m(self)\u001b[0m\n\u001b[1;32m    278\u001b[0m \u001b[39mdef\u001b[39;00m \u001b[39m_read_status\u001b[39m(\u001b[39mself\u001b[39m):\n\u001b[0;32m--> 279\u001b[0m     line \u001b[39m=\u001b[39m \u001b[39mstr\u001b[39m(\u001b[39mself\u001b[39m\u001b[39m.\u001b[39mfp\u001b[39m.\u001b[39mreadline(_MAXLINE \u001b[39m+\u001b[39m \u001b[39m1\u001b[39m), \u001b[39m\"\u001b[39m\u001b[39miso-8859-1\u001b[39m\u001b[39m\"\u001b[39m)\n\u001b[1;32m    280\u001b[0m     \u001b[39mif\u001b[39;00m \u001b[39mlen\u001b[39m(line) \u001b[39m>\u001b[39m _MAXLINE:\n\u001b[1;32m    281\u001b[0m         \u001b[39mraise\u001b[39;00m LineTooLong(\u001b[39m\"\u001b[39m\u001b[39mstatus line\u001b[39m\u001b[39m\"\u001b[39m)\n",
      "File \u001b[0;32m~/.pyenv/versions/3.11.4/lib/python3.11/socket.py:706\u001b[0m, in \u001b[0;36mSocketIO.readinto\u001b[0;34m(self, b)\u001b[0m\n\u001b[1;32m    704\u001b[0m \u001b[39mwhile\u001b[39;00m \u001b[39mTrue\u001b[39;00m:\n\u001b[1;32m    705\u001b[0m     \u001b[39mtry\u001b[39;00m:\n\u001b[0;32m--> 706\u001b[0m         \u001b[39mreturn\u001b[39;00m \u001b[39mself\u001b[39;49m\u001b[39m.\u001b[39;49m_sock\u001b[39m.\u001b[39;49mrecv_into(b)\n\u001b[1;32m    707\u001b[0m     \u001b[39mexcept\u001b[39;00m timeout:\n\u001b[1;32m    708\u001b[0m         \u001b[39mself\u001b[39m\u001b[39m.\u001b[39m_timeout_occurred \u001b[39m=\u001b[39m \u001b[39mTrue\u001b[39;00m\n",
      "File \u001b[0;32m~/.pyenv/versions/3.11.4/lib/python3.11/ssl.py:1278\u001b[0m, in \u001b[0;36mSSLSocket.recv_into\u001b[0;34m(self, buffer, nbytes, flags)\u001b[0m\n\u001b[1;32m   1274\u001b[0m     \u001b[39mif\u001b[39;00m flags \u001b[39m!=\u001b[39m \u001b[39m0\u001b[39m:\n\u001b[1;32m   1275\u001b[0m         \u001b[39mraise\u001b[39;00m \u001b[39mValueError\u001b[39;00m(\n\u001b[1;32m   1276\u001b[0m           \u001b[39m\"\u001b[39m\u001b[39mnon-zero flags not allowed in calls to recv_into() on \u001b[39m\u001b[39m%s\u001b[39;00m\u001b[39m\"\u001b[39m \u001b[39m%\u001b[39m\n\u001b[1;32m   1277\u001b[0m           \u001b[39mself\u001b[39m\u001b[39m.\u001b[39m\u001b[39m__class__\u001b[39m)\n\u001b[0;32m-> 1278\u001b[0m     \u001b[39mreturn\u001b[39;00m \u001b[39mself\u001b[39;49m\u001b[39m.\u001b[39;49mread(nbytes, buffer)\n\u001b[1;32m   1279\u001b[0m \u001b[39melse\u001b[39;00m:\n\u001b[1;32m   1280\u001b[0m     \u001b[39mreturn\u001b[39;00m \u001b[39msuper\u001b[39m()\u001b[39m.\u001b[39mrecv_into(buffer, nbytes, flags)\n",
      "File \u001b[0;32m~/.pyenv/versions/3.11.4/lib/python3.11/ssl.py:1134\u001b[0m, in \u001b[0;36mSSLSocket.read\u001b[0;34m(self, len, buffer)\u001b[0m\n\u001b[1;32m   1132\u001b[0m \u001b[39mtry\u001b[39;00m:\n\u001b[1;32m   1133\u001b[0m     \u001b[39mif\u001b[39;00m buffer \u001b[39mis\u001b[39;00m \u001b[39mnot\u001b[39;00m \u001b[39mNone\u001b[39;00m:\n\u001b[0;32m-> 1134\u001b[0m         \u001b[39mreturn\u001b[39;00m \u001b[39mself\u001b[39;49m\u001b[39m.\u001b[39;49m_sslobj\u001b[39m.\u001b[39;49mread(\u001b[39mlen\u001b[39;49m, buffer)\n\u001b[1;32m   1135\u001b[0m     \u001b[39melse\u001b[39;00m:\n\u001b[1;32m   1136\u001b[0m         \u001b[39mreturn\u001b[39;00m \u001b[39mself\u001b[39m\u001b[39m.\u001b[39m_sslobj\u001b[39m.\u001b[39mread(\u001b[39mlen\u001b[39m)\n",
      "\u001b[0;31mKeyboardInterrupt\u001b[0m: "
     ]
    }
   ],
   "source": [
    "import requests\n",
    "import spotify_get_cre\n",
    "import json\n",
    "import time\n",
    "\n",
    "# Your Spotify API access token\n",
    "access_token = spotify_get_cre.get_token()\n",
    "\n",
    "# Create a dictionary for song name and id and save it as json to remove the dependency upon the API\n",
    "unique_id = {}\n",
    "# This is the last position, if you want to resume from a specific point, \n",
    "# change this variable to a specific index from 0..99\n",
    "count = 99\n",
    "for unique in splitted_unique_songs[count:100]:\n",
    "    no = 0\n",
    "    for song in unique:\n",
    "        try:\n",
    "            # The query parameters for the search\n",
    "            query_params = {\n",
    "                'q': f\"{song}\",\n",
    "                'type': 'track',\n",
    "                'limit': 1\n",
    "            }\n",
    "\n",
    "            # The Spotify API endpoint for searching\n",
    "            search_url = 'https://api.spotify.com/v1/search'\n",
    "\n",
    "            # Define the headers with the access token\n",
    "            headers = {\n",
    "                'Authorization': f'Bearer {access_token}'\n",
    "            }\n",
    "\n",
    "            # Make the GET request to the Spotify API\n",
    "            response = requests.get(search_url, params=query_params, headers=headers)\n",
    "            result = json.loads(response.content)\n",
    "            sp_id = result['tracks']['items'][0]['id']\n",
    "            unique_id[f'{song}'] = sp_id\n",
    "            print(f'{no} song in {count} added {song}')\n",
    "            no = no + 1\n",
    "        except IndexError:\n",
    "            unique_id[f'{song}'] = 'NaN'\n",
    "    with open(f\"./id_out/{count}_99.json\", \"w\") as outfile:\n",
    "        json.dump(unique_id, outfile)\n",
    "    print('Pausing 3 seconds')\n",
    "    time.sleep(3) # To avoid API bottlenecking\n",
    "    unique_id = {}\n",
    "    count = count + 1"
   ]
  },
  {
   "cell_type": "markdown",
   "metadata": {},
   "source": [
    "Now, we'll have to merge every json files into one"
   ]
  },
  {
   "cell_type": "code",
   "execution_count": 81,
   "metadata": {},
   "outputs": [],
   "source": [
    "import glob\n",
    "result = []\n",
    "\n",
    "# Define the file paths of the JSON files to merge\n",
    "file_paths = glob.glob(\"./id_out/*.json\")\n",
    "merged_data = {}\n",
    "\n",
    "# Iterate through the file paths\n",
    "for file_path in file_paths:\n",
    "    # Open and read each JSON file\n",
    "    with open(file_path, 'r') as file:\n",
    "        data = json.load(file)\n",
    "    # Merge the data into the merged_data dictionary\n",
    "    merged_data.update(data)\n",
    "# Define the output file path\n",
    "output_file = \"output_id.json\"\n",
    "# Write the merged data to the output file\n",
    "with open(output_file, 'w') as outfile:\n",
    "    json.dump(merged_data, outfile, indent=4)"
   ]
  },
  {
   "cell_type": "code",
   "execution_count": 82,
   "metadata": {},
   "outputs": [
    {
     "data": {
      "text/plain": [
       "25372"
      ]
     },
     "execution_count": 82,
     "metadata": {},
     "output_type": "execute_result"
    }
   ],
   "source": [
    "with open('output_id.json', 'r') as file:\n",
    "    song_id = json.load(file)\n",
    "len(song_id)"
   ]
  },
  {
   "cell_type": "markdown",
   "metadata": {},
   "source": [
    "Sample audio_feature\n",
    "\n",
    "reference: [link](https://developer.spotify.com/documentation/web-api/reference/get-several-audio-features)"
   ]
  },
  {
   "cell_type": "code",
   "execution_count": 83,
   "metadata": {},
   "outputs": [
    {
     "data": {
      "text/plain": [
       "'\\n{\\n  \"audio_features\": [\\n    {\\n      \"acousticness\": 0.00242,\\n      \"analysis_url\": \"https://api.spotify.com/v1/audio-analysis/2takcwOaAZWiXQijPHIx7B\",\\n      \"danceability\": 0.585,\\n      \"duration_ms\": 237040,\\n      \"energy\": 0.842,\\n      \"id\": \"2takcwOaAZWiXQijPHIx7B\",\\n      \"instrumentalness\": 0.00686,\\n      \"key\": 9,\\n      \"liveness\": 0.0866,\\n      \"loudness\": -5.883,\\n      \"mode\": 0,\\n      \"speechiness\": 0.0556,\\n      \"tempo\": 118.211,\\n      \"time_signature\": 4,\\n      \"track_href\": \"https://api.spotify.com/v1/tracks/2takcwOaAZWiXQijPHIx7B\",\\n      \"type\": \"audio_features\",\\n      \"uri\": \"spotify:track:2takcwOaAZWiXQijPHIx7B\",\\n      \"valence\": 0.428\\n    }\\n  ]\\n}\\n'"
      ]
     },
     "execution_count": 83,
     "metadata": {},
     "output_type": "execute_result"
    }
   ],
   "source": [
    "\"\"\"\n",
    "{\n",
    "  \"audio_features\": [\n",
    "    {\n",
    "      \"acousticness\": 0.00242,\n",
    "      \"analysis_url\": \"https://api.spotify.com/v1/audio-analysis/2takcwOaAZWiXQijPHIx7B\",\n",
    "      \"danceability\": 0.585,\n",
    "      \"duration_ms\": 237040,\n",
    "      \"energy\": 0.842,\n",
    "      \"id\": \"2takcwOaAZWiXQijPHIx7B\",\n",
    "      \"instrumentalness\": 0.00686,\n",
    "      \"key\": 9,\n",
    "      \"liveness\": 0.0866,\n",
    "      \"loudness\": -5.883,\n",
    "      \"mode\": 0,\n",
    "      \"speechiness\": 0.0556,\n",
    "      \"tempo\": 118.211,\n",
    "      \"time_signature\": 4,\n",
    "      \"track_href\": \"https://api.spotify.com/v1/tracks/2takcwOaAZWiXQijPHIx7B\",\n",
    "      \"type\": \"audio_features\",\n",
    "      \"uri\": \"spotify:track:2takcwOaAZWiXQijPHIx7B\",\n",
    "      \"valence\": 0.428\n",
    "    }\n",
    "  ]\n",
    "}\n",
    "\"\"\""
   ]
  },
  {
   "cell_type": "markdown",
   "metadata": {},
   "source": [
    "We'll take\n",
    "* acousticness\n",
    "* danceability\n",
    "* duration_ms\n",
    "* energy\n",
    "* instrumentalness\n",
    "* loudness\n",
    "* mode\n",
    "* tempo\n",
    "* valence\n",
    "\n",
    "Notwithstanding, we're still going to extract all the data for the sake of API usage, for any future uses."
   ]
  },
  {
   "cell_type": "code",
   "execution_count": null,
   "metadata": {},
   "outputs": [],
   "source": []
  },
  {
   "cell_type": "markdown",
   "metadata": {},
   "source": [
    "# EDA"
   ]
  },
  {
   "cell_type": "markdown",
   "metadata": {},
   "source": [
    "TODO:\n",
    "* Histogram\n"
   ]
  },
  {
   "cell_type": "code",
   "execution_count": null,
   "metadata": {},
   "outputs": [],
   "source": []
  }
 ],
 "metadata": {
  "kernelspec": {
   "display_name": "Python 3",
   "language": "python",
   "name": "python3"
  },
  "language_info": {
   "codemirror_mode": {
    "name": "ipython",
    "version": 3
   },
   "file_extension": ".py",
   "mimetype": "text/x-python",
   "name": "python",
   "nbconvert_exporter": "python",
   "pygments_lexer": "ipython3",
   "version": "3.11.4"
  },
  "orig_nbformat": 4
 },
 "nbformat": 4,
 "nbformat_minor": 2
}
