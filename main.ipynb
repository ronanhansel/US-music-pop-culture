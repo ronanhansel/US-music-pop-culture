{
 "cells": [
  {
   "cell_type": "code",
   "execution_count": 5,
   "metadata": {},
   "outputs": [],
   "source": [
    "import pandas as pd\n",
    "import numpy as np\n",
    "pd.set_option('display.max_rows', 25)"
   ]
  },
  {
   "cell_type": "code",
   "execution_count": 6,
   "metadata": {},
   "outputs": [],
   "source": [
    "df = pd.read_csv(\"./Billboard Hot 100 since 1958.csv\")"
   ]
  },
  {
   "cell_type": "code",
   "execution_count": 7,
   "metadata": {},
   "outputs": [
    {
     "data": {
      "text/plain": [
       "Index(['chart_position', 'chart_date', 'song', 'performer', 'song_id',\n",
       "       'instance', 'time_on_chart', 'consecutive_weeks', 'previous_week',\n",
       "       'peak_position', 'worst_position', 'chart_debut', 'chart_url'],\n",
       "      dtype='object')"
      ]
     },
     "execution_count": 7,
     "metadata": {},
     "output_type": "execute_result"
    }
   ],
   "source": [
    "df.columns"
   ]
  },
  {
   "cell_type": "code",
   "execution_count": 8,
   "metadata": {},
   "outputs": [
    {
     "data": {
      "text/plain": [
       "chart_position           0\n",
       "chart_date               0\n",
       "song                     0\n",
       "performer                0\n",
       "song_id                  0\n",
       "instance                 0\n",
       "time_on_chart            0\n",
       "consecutive_weeks    33667\n",
       "previous_week        33667\n",
       "peak_position            0\n",
       "worst_position           0\n",
       "chart_debut              0\n",
       "chart_url                0\n",
       "dtype: int64"
      ]
     },
     "execution_count": 8,
     "metadata": {},
     "output_type": "execute_result"
    }
   ],
   "source": [
    "df.isnull().sum()"
   ]
  },
  {
   "cell_type": "code",
   "execution_count": 9,
   "metadata": {},
   "outputs": [
    {
     "data": {
      "text/plain": [
       "(338395, 13)"
      ]
     },
     "execution_count": 9,
     "metadata": {},
     "output_type": "execute_result"
    }
   ],
   "source": [
    "df.shape"
   ]
  },
  {
   "cell_type": "code",
   "execution_count": 10,
   "metadata": {},
   "outputs": [
    {
     "data": {
      "text/plain": [
       "chart_date\n",
       "1958-08-02    100\n",
       "1958-08-09    100\n",
       "1958-08-16    100\n",
       "1958-08-23    100\n",
       "1958-08-30    100\n",
       "1958-09-06    100\n",
       "1958-09-13    100\n",
       "1958-09-20    100\n",
       "1958-09-27    100\n",
       "1958-10-04    100\n",
       "Name: count, dtype: int64"
      ]
     },
     "execution_count": 10,
     "metadata": {},
     "output_type": "execute_result"
    }
   ],
   "source": [
    "df['chart_date'] = pd.to_datetime(df['chart_date'], format='%Y-%m-%d')\n",
    "df.drop(['chart_position'], axis=1)\n",
    "df.sort_values(by='chart_date', inplace=True)\n",
    "df.reset_index(drop=True, inplace=True)\n",
    "df.head(1000)['chart_date'].value_counts()"
   ]
  },
  {
   "cell_type": "code",
   "execution_count": 11,
   "metadata": {},
   "outputs": [
    {
     "data": {
      "text/html": [
       "<div>\n",
       "<style scoped>\n",
       "    .dataframe tbody tr th:only-of-type {\n",
       "        vertical-align: middle;\n",
       "    }\n",
       "\n",
       "    .dataframe tbody tr th {\n",
       "        vertical-align: top;\n",
       "    }\n",
       "\n",
       "    .dataframe thead th {\n",
       "        text-align: right;\n",
       "    }\n",
       "</style>\n",
       "<table border=\"1\" class=\"dataframe\">\n",
       "  <thead>\n",
       "    <tr style=\"text-align: right;\">\n",
       "      <th></th>\n",
       "      <th>chart_position</th>\n",
       "      <th>chart_date</th>\n",
       "      <th>chart_day</th>\n",
       "      <th>song</th>\n",
       "      <th>performer</th>\n",
       "      <th>chart_url</th>\n",
       "    </tr>\n",
       "  </thead>\n",
       "  <tbody>\n",
       "    <tr>\n",
       "      <th>0</th>\n",
       "      <td>41</td>\n",
       "      <td>1958-08-02</td>\n",
       "      <td>Saturday</td>\n",
       "      <td>Early In The Morning</td>\n",
       "      <td>Buddy Holly</td>\n",
       "      <td>https://www.billboard.com/charts/hot-100/1958-...</td>\n",
       "    </tr>\n",
       "    <tr>\n",
       "      <th>1</th>\n",
       "      <td>57</td>\n",
       "      <td>1958-08-02</td>\n",
       "      <td>Saturday</td>\n",
       "      <td>You Need Hands</td>\n",
       "      <td>Eydie Gorme</td>\n",
       "      <td>https://www.billboard.com/charts/hot-100/1958-...</td>\n",
       "    </tr>\n",
       "    <tr>\n",
       "      <th>2</th>\n",
       "      <td>94</td>\n",
       "      <td>1958-08-02</td>\n",
       "      <td>Saturday</td>\n",
       "      <td>She Was Only Seventeen (He Was One Year More)</td>\n",
       "      <td>Marty Robbins</td>\n",
       "      <td>https://www.billboard.com/charts/hot-100/1958-...</td>\n",
       "    </tr>\n",
       "    <tr>\n",
       "      <th>3</th>\n",
       "      <td>5</td>\n",
       "      <td>1958-08-02</td>\n",
       "      <td>Saturday</td>\n",
       "      <td>When</td>\n",
       "      <td>Kalin Twins</td>\n",
       "      <td>https://www.billboard.com/charts/hot-100/1958-...</td>\n",
       "    </tr>\n",
       "    <tr>\n",
       "      <th>4</th>\n",
       "      <td>11</td>\n",
       "      <td>1958-08-02</td>\n",
       "      <td>Saturday</td>\n",
       "      <td>Ginger Bread</td>\n",
       "      <td>Frankie Avalon</td>\n",
       "      <td>https://www.billboard.com/charts/hot-100/1958-...</td>\n",
       "    </tr>\n",
       "    <tr>\n",
       "      <th>...</th>\n",
       "      <td>...</td>\n",
       "      <td>...</td>\n",
       "      <td>...</td>\n",
       "      <td>...</td>\n",
       "      <td>...</td>\n",
       "      <td>...</td>\n",
       "    </tr>\n",
       "    <tr>\n",
       "      <th>338390</th>\n",
       "      <td>81</td>\n",
       "      <td>2023-05-27</td>\n",
       "      <td>Saturday</td>\n",
       "      <td>Go Hard</td>\n",
       "      <td>Lil Baby</td>\n",
       "      <td>https://www.billboard.com/charts/hot-100/2023-...</td>\n",
       "    </tr>\n",
       "    <tr>\n",
       "      <th>338391</th>\n",
       "      <td>17</td>\n",
       "      <td>2023-05-27</td>\n",
       "      <td>Saturday</td>\n",
       "      <td>Search &amp; Rescue</td>\n",
       "      <td>Drake</td>\n",
       "      <td>https://www.billboard.com/charts/hot-100/2023-...</td>\n",
       "    </tr>\n",
       "    <tr>\n",
       "      <th>338392</th>\n",
       "      <td>79</td>\n",
       "      <td>2023-05-27</td>\n",
       "      <td>Saturday</td>\n",
       "      <td>I Wrote The Book</td>\n",
       "      <td>Morgan Wallen</td>\n",
       "      <td>https://www.billboard.com/charts/hot-100/2023-...</td>\n",
       "    </tr>\n",
       "    <tr>\n",
       "      <th>338393</th>\n",
       "      <td>6</td>\n",
       "      <td>2023-05-27</td>\n",
       "      <td>Saturday</td>\n",
       "      <td>Calm Down</td>\n",
       "      <td>Rema &amp; Selena Gomez</td>\n",
       "      <td>https://www.billboard.com/charts/hot-100/2023-...</td>\n",
       "    </tr>\n",
       "    <tr>\n",
       "      <th>338394</th>\n",
       "      <td>10</td>\n",
       "      <td>2023-05-27</td>\n",
       "      <td>Saturday</td>\n",
       "      <td>Anti-Hero</td>\n",
       "      <td>Taylor Swift</td>\n",
       "      <td>https://www.billboard.com/charts/hot-100/2023-...</td>\n",
       "    </tr>\n",
       "  </tbody>\n",
       "</table>\n",
       "<p>338395 rows × 6 columns</p>\n",
       "</div>"
      ],
      "text/plain": [
       "        chart_position chart_date chart_day  \\\n",
       "0                   41 1958-08-02  Saturday   \n",
       "1                   57 1958-08-02  Saturday   \n",
       "2                   94 1958-08-02  Saturday   \n",
       "3                    5 1958-08-02  Saturday   \n",
       "4                   11 1958-08-02  Saturday   \n",
       "...                ...        ...       ...   \n",
       "338390              81 2023-05-27  Saturday   \n",
       "338391              17 2023-05-27  Saturday   \n",
       "338392              79 2023-05-27  Saturday   \n",
       "338393               6 2023-05-27  Saturday   \n",
       "338394              10 2023-05-27  Saturday   \n",
       "\n",
       "                                                 song            performer  \\\n",
       "0                                Early In The Morning          Buddy Holly   \n",
       "1                                      You Need Hands          Eydie Gorme   \n",
       "2       She Was Only Seventeen (He Was One Year More)        Marty Robbins   \n",
       "3                                                When          Kalin Twins   \n",
       "4                                        Ginger Bread       Frankie Avalon   \n",
       "...                                               ...                  ...   \n",
       "338390                                        Go Hard             Lil Baby   \n",
       "338391                                Search & Rescue                Drake   \n",
       "338392                               I Wrote The Book        Morgan Wallen   \n",
       "338393                                      Calm Down  Rema & Selena Gomez   \n",
       "338394                                      Anti-Hero         Taylor Swift   \n",
       "\n",
       "                                                chart_url  \n",
       "0       https://www.billboard.com/charts/hot-100/1958-...  \n",
       "1       https://www.billboard.com/charts/hot-100/1958-...  \n",
       "2       https://www.billboard.com/charts/hot-100/1958-...  \n",
       "3       https://www.billboard.com/charts/hot-100/1958-...  \n",
       "4       https://www.billboard.com/charts/hot-100/1958-...  \n",
       "...                                                   ...  \n",
       "338390  https://www.billboard.com/charts/hot-100/2023-...  \n",
       "338391  https://www.billboard.com/charts/hot-100/2023-...  \n",
       "338392  https://www.billboard.com/charts/hot-100/2023-...  \n",
       "338393  https://www.billboard.com/charts/hot-100/2023-...  \n",
       "338394  https://www.billboard.com/charts/hot-100/2023-...  \n",
       "\n",
       "[338395 rows x 6 columns]"
      ]
     },
     "execution_count": 11,
     "metadata": {},
     "output_type": "execute_result"
    }
   ],
   "source": [
    "# Check if every date is the same\n",
    "df['chart_day'] = df['chart_date'].dt.dayofweek\n",
    "df['chart_day'] = df['chart_day'].map({\n",
    "    0: 'Monday',\n",
    "    1: 'Tuesday',\n",
    "    2: 'Wednesday',\n",
    "    3: 'Thursday',\n",
    "    4: 'Friday',\n",
    "    5: 'Saturday',\n",
    "    6: 'Sunday'\n",
    "})\n",
    "df = df[['chart_position', 'chart_date', 'chart_day', 'song', 'performer' \n",
    "       #'song_id', 'instance', 'time_on_chart', \n",
    "       #'consecutive_weeks', 'previous_week',\n",
    "       #'peak_position', 'worst_position', 'chart_debut'\n",
    "       , 'chart_url'\n",
    "       ]]\n",
    "df"
   ]
  },
  {
   "cell_type": "code",
   "execution_count": 12,
   "metadata": {},
   "outputs": [
    {
     "data": {
      "text/plain": [
       "chart_day\n",
       "Saturday    338395\n",
       "Name: count, dtype: int64"
      ]
     },
     "execution_count": 12,
     "metadata": {},
     "output_type": "execute_result"
    }
   ],
   "source": [
    "df['chart_day'].value_counts()"
   ]
  },
  {
   "cell_type": "markdown",
   "metadata": {},
   "source": [
    "100 % of the entries are reset on Saturday"
   ]
  },
  {
   "cell_type": "code",
   "execution_count": 13,
   "metadata": {},
   "outputs": [
    {
     "data": {
      "text/plain": [
       "song\n",
       "Early In The Morning    2\n",
       "Over And Over           2\n",
       "Got A Match?            2\n",
       "Fool's Paradise         1\n",
       "Splish Splash           1\n",
       "                       ..\n",
       "Happy Years             1\n",
       "Blue Blue Day           1\n",
       "Come What May           1\n",
       "My True Love            1\n",
       "Just A Dream            1\n",
       "Name: count, Length: 97, dtype: int64"
      ]
     },
     "execution_count": 13,
     "metadata": {},
     "output_type": "execute_result"
    }
   ],
   "source": [
    "df.head(100)['song'].value_counts()"
   ]
  },
  {
   "cell_type": "code",
   "execution_count": 14,
   "metadata": {},
   "outputs": [
    {
     "data": {
      "text/plain": [
       "count\n",
       "100    3377\n",
       "99        5\n",
       "200       1\n",
       "Name: count, dtype: int64"
      ]
     },
     "execution_count": 14,
     "metadata": {},
     "output_type": "execute_result"
    }
   ],
   "source": [
    "df.chart_date.value_counts().value_counts()"
   ]
  },
  {
   "cell_type": "code",
   "execution_count": 15,
   "metadata": {},
   "outputs": [
    {
     "data": {
      "text/plain": [
       "chart_date\n",
       "1991-11-16    99\n",
       "1991-11-23    99\n",
       "1991-11-30    99\n",
       "1991-12-07    99\n",
       "1991-12-14    99\n",
       "Name: count, dtype: int64"
      ]
     },
     "execution_count": 15,
     "metadata": {},
     "output_type": "execute_result"
    }
   ],
   "source": [
    "df['chart_date'].value_counts()[df['chart_date'].value_counts() == 99]"
   ]
  },
  {
   "cell_type": "code",
   "execution_count": 16,
   "metadata": {},
   "outputs": [
    {
     "data": {
      "text/plain": [
       "chart_date\n",
       "2023-01-07    200\n",
       "Name: count, dtype: int64"
      ]
     },
     "execution_count": 16,
     "metadata": {},
     "output_type": "execute_result"
    }
   ],
   "source": [
    "df['chart_date'].value_counts()[df['chart_date'].value_counts() == 200]"
   ]
  },
  {
   "cell_type": "code",
   "execution_count": 17,
   "metadata": {},
   "outputs": [
    {
     "data": {
      "text/plain": [
       "chart_date\n",
       "1958-08-02    100\n",
       "2001-11-24    100\n",
       "2001-09-15    100\n",
       "2001-09-22    100\n",
       "2001-09-29    100\n",
       "             ... \n",
       "1980-03-15    100\n",
       "1980-03-22    100\n",
       "1980-03-29    100\n",
       "1980-04-05    100\n",
       "2023-05-27    100\n",
       "Name: count, Length: 3377, dtype: int64"
      ]
     },
     "execution_count": 17,
     "metadata": {},
     "output_type": "execute_result"
    }
   ],
   "source": [
    "df['chart_date'].value_counts()[df['chart_date'].value_counts() == 100]"
   ]
  },
  {
   "cell_type": "code",
   "execution_count": 18,
   "metadata": {},
   "outputs": [
    {
     "data": {
      "text/plain": [
       "chart_position\n",
       "50    2\n",
       "74    2\n",
       "63    2\n",
       "41    1\n",
       "35    1\n",
       "     ..\n",
       "77    1\n",
       "32    1\n",
       "43    1\n",
       "8     1\n",
       "96    1\n",
       "Name: count, Length: 97, dtype: int64"
      ]
     },
     "execution_count": 18,
     "metadata": {},
     "output_type": "execute_result"
    }
   ],
   "source": [
    "df.head(100)\n",
    "df.head(100).chart_position.value_counts()"
   ]
  },
  {
   "cell_type": "code",
   "execution_count": 19,
   "metadata": {},
   "outputs": [
    {
     "data": {
      "text/plain": [
       "song\n",
       "Early In The Morning    2\n",
       "Over And Over           2\n",
       "Got A Match?            2\n",
       "Fool's Paradise         1\n",
       "Splish Splash           1\n",
       "                       ..\n",
       "Happy Years             1\n",
       "Blue Blue Day           1\n",
       "Come What May           1\n",
       "My True Love            1\n",
       "Just A Dream            1\n",
       "Name: count, Length: 97, dtype: int64"
      ]
     },
     "execution_count": 19,
     "metadata": {},
     "output_type": "execute_result"
    }
   ],
   "source": [
    "df.head(100).song.value_counts()"
   ]
  },
  {
   "cell_type": "code",
   "execution_count": 20,
   "metadata": {},
   "outputs": [
    {
     "name": "stderr",
     "output_type": "stream",
     "text": [
      "/var/folders/qk/t7psjtl510s8pvxmhbfn6v780000gn/T/ipykernel_15335/2881002666.py:1: UserWarning: Boolean Series key will be reindexed to match DataFrame index.\n",
      "  df.head(100)[df['chart_position'].isin([50, 74, 63])].sort_values(by='chart_position')\n"
     ]
    },
    {
     "data": {
      "text/html": [
       "<div>\n",
       "<style scoped>\n",
       "    .dataframe tbody tr th:only-of-type {\n",
       "        vertical-align: middle;\n",
       "    }\n",
       "\n",
       "    .dataframe tbody tr th {\n",
       "        vertical-align: top;\n",
       "    }\n",
       "\n",
       "    .dataframe thead th {\n",
       "        text-align: right;\n",
       "    }\n",
       "</style>\n",
       "<table border=\"1\" class=\"dataframe\">\n",
       "  <thead>\n",
       "    <tr style=\"text-align: right;\">\n",
       "      <th></th>\n",
       "      <th>chart_position</th>\n",
       "      <th>chart_date</th>\n",
       "      <th>chart_day</th>\n",
       "      <th>song</th>\n",
       "      <th>performer</th>\n",
       "      <th>chart_url</th>\n",
       "    </tr>\n",
       "  </thead>\n",
       "  <tbody>\n",
       "    <tr>\n",
       "      <th>22</th>\n",
       "      <td>50</td>\n",
       "      <td>1958-08-02</td>\n",
       "      <td>Saturday</td>\n",
       "      <td>Baubles, Bangles And Beads</td>\n",
       "      <td>The Kirby Stone Four</td>\n",
       "      <td>https://www.billboard.com/charts/hot-100/1958-...</td>\n",
       "    </tr>\n",
       "    <tr>\n",
       "      <th>80</th>\n",
       "      <td>50</td>\n",
       "      <td>1958-08-02</td>\n",
       "      <td>Saturday</td>\n",
       "      <td>By The Light Of The Silvery Moon</td>\n",
       "      <td>Jimmy Bowen with the Rhythm Orchids</td>\n",
       "      <td>https://www.billboard.com/charts/hot-100/1958-...</td>\n",
       "    </tr>\n",
       "    <tr>\n",
       "      <th>35</th>\n",
       "      <td>63</td>\n",
       "      <td>1958-08-02</td>\n",
       "      <td>Saturday</td>\n",
       "      <td>High School Confidential</td>\n",
       "      <td>Jerry Lee Lewis And His Pumping Piano</td>\n",
       "      <td>https://www.billboard.com/charts/hot-100/1958-...</td>\n",
       "    </tr>\n",
       "    <tr>\n",
       "      <th>94</th>\n",
       "      <td>63</td>\n",
       "      <td>1958-08-02</td>\n",
       "      <td>Saturday</td>\n",
       "      <td>Padre</td>\n",
       "      <td>Toni Arden</td>\n",
       "      <td>https://www.billboard.com/charts/hot-100/1958-...</td>\n",
       "    </tr>\n",
       "    <tr>\n",
       "      <th>40</th>\n",
       "      <td>74</td>\n",
       "      <td>1958-08-02</td>\n",
       "      <td>Saturday</td>\n",
       "      <td>Gotta Have Rain</td>\n",
       "      <td>Eydie Gorme</td>\n",
       "      <td>https://www.billboard.com/charts/hot-100/1958-...</td>\n",
       "    </tr>\n",
       "    <tr>\n",
       "      <th>79</th>\n",
       "      <td>74</td>\n",
       "      <td>1958-08-02</td>\n",
       "      <td>Saturday</td>\n",
       "      <td>Win Your Love For Me</td>\n",
       "      <td>Sam Cooke</td>\n",
       "      <td>https://www.billboard.com/charts/hot-100/1958-...</td>\n",
       "    </tr>\n",
       "  </tbody>\n",
       "</table>\n",
       "</div>"
      ],
      "text/plain": [
       "    chart_position chart_date chart_day                              song  \\\n",
       "22              50 1958-08-02  Saturday        Baubles, Bangles And Beads   \n",
       "80              50 1958-08-02  Saturday  By The Light Of The Silvery Moon   \n",
       "35              63 1958-08-02  Saturday          High School Confidential   \n",
       "94              63 1958-08-02  Saturday                             Padre   \n",
       "40              74 1958-08-02  Saturday                   Gotta Have Rain   \n",
       "79              74 1958-08-02  Saturday              Win Your Love For Me   \n",
       "\n",
       "                                performer  \\\n",
       "22                   The Kirby Stone Four   \n",
       "80    Jimmy Bowen with the Rhythm Orchids   \n",
       "35  Jerry Lee Lewis And His Pumping Piano   \n",
       "94                             Toni Arden   \n",
       "40                            Eydie Gorme   \n",
       "79                              Sam Cooke   \n",
       "\n",
       "                                            chart_url  \n",
       "22  https://www.billboard.com/charts/hot-100/1958-...  \n",
       "80  https://www.billboard.com/charts/hot-100/1958-...  \n",
       "35  https://www.billboard.com/charts/hot-100/1958-...  \n",
       "94  https://www.billboard.com/charts/hot-100/1958-...  \n",
       "40  https://www.billboard.com/charts/hot-100/1958-...  \n",
       "79  https://www.billboard.com/charts/hot-100/1958-...  "
      ]
     },
     "execution_count": 20,
     "metadata": {},
     "output_type": "execute_result"
    }
   ],
   "source": [
    "df.head(100)[df['chart_position'].isin([50, 74, 63])].sort_values(by='chart_position')"
   ]
  },
  {
   "cell_type": "code",
   "execution_count": 21,
   "metadata": {},
   "outputs": [
    {
     "data": {
      "text/plain": [
       "'https://www.billboard.com/charts/hot-100/1958-08-02'"
      ]
     },
     "execution_count": 21,
     "metadata": {},
     "output_type": "execute_result"
    }
   ],
   "source": [
    "df.at[22, 'chart_url']"
   ]
  },
  {
   "cell_type": "code",
   "execution_count": null,
   "metadata": {},
   "outputs": [],
   "source": []
  }
 ],
 "metadata": {
  "kernelspec": {
   "display_name": "Python 3",
   "language": "python",
   "name": "python3"
  },
  "language_info": {
   "codemirror_mode": {
    "name": "ipython",
    "version": 3
   },
   "file_extension": ".py",
   "mimetype": "text/x-python",
   "name": "python",
   "nbconvert_exporter": "python",
   "pygments_lexer": "ipython3",
   "version": "3.11.4"
  },
  "orig_nbformat": 4
 },
 "nbformat": 4,
 "nbformat_minor": 2
}
